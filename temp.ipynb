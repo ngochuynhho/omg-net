{
 "cells": [
  {
   "cell_type": "code",
   "execution_count": null,
   "id": "2e9a2f6b",
   "metadata": {
    "scrolled": true
   },
   "outputs": [],
   "source": [
    "!pip install nibabel\n",
    "!pip install antspyx\n",
    "!pip install SimpleITK\n",
    "!pip install positional-encodings[tensorflow]"
   ]
  },
  {
   "cell_type": "code",
   "execution_count": null,
   "id": "2b279deb",
   "metadata": {},
   "outputs": [],
   "source": [
    "import os\n",
    "import csv\n",
    "import ants\n",
    "import time\n",
    "import json\n",
    "import numpy as np\n",
    "import nibabel as nib\n",
    "import nibabel.processing\n",
    "\n",
    "from scipy import ndimage\n",
    "from skimage import morphology\n",
    "\n",
    "import SimpleITK as sitk\n",
    "import matplotlib.pyplot as plt\n",
    "from matplotlib import cm\n",
    "from mpl_toolkits.mplot3d.art3d import Poly3DCollection\n",
    "from scipy.ndimage import gaussian_gradient_magnitude"
   ]
  },
  {
   "cell_type": "code",
   "execution_count": null,
   "id": "49ceee22",
   "metadata": {},
   "outputs": [],
   "source": [
    "def image_registration(img, template):\n",
    "    registration = ants.registration(fixed=template, moving=img, aff_sampling=36, type_of_transform='Translation')\n",
    "    transformed_ants = ants.apply_transforms(fixed=template, moving=img, interpolator='bSpline', transformlist=registration['fwdtransforms'])\n",
    "    transformed_img = ants.to_nibabel(transformed_ants)\n",
    "    return transformed_img\n",
    "\n",
    "def postprocessing_segmentation(segmentation_mask, voxel_threshold=100, smoothing_sigma=1, expansion_distance=10):\n",
    "    cleaned_mask = morphology.remove_small_objects(np.asarray(segmentation_mask > 0.5, dtype=np.int64), min_size=voxel_threshold, connectivity=1)\n",
    "    smoothed_mask = ndimage.gaussian_filter(cleaned_mask.astype(float), sigma=smoothing_sigma)\n",
    "    smoothed_mask = smoothed_mask > 0.5\n",
    "    final_segmentation = ndimage.binary_dilation(smoothed_mask, iterations=expansion_distance)\n",
    "    return final_segmentation"
   ]
  },
  {
   "cell_type": "code",
   "execution_count": null,
   "id": "c2ad9a90",
   "metadata": {},
   "outputs": [],
   "source": [
    "source_dir = \"/ngochuynh/f/Dataset/ADNI/\"\n",
    "atlas_file = \"temp/BN_Atlas_246_1mm.nii\"\n",
    "status_type = \"CN_MCI\""
   ]
  },
  {
   "cell_type": "code",
   "execution_count": null,
   "id": "0a3dd8df",
   "metadata": {},
   "outputs": [],
   "source": [
    "atlas = nib.load(os.path.join(source_dir, atlas_file))\n",
    "atlas_data = atlas.get_fdata()"
   ]
  },
  {
   "cell_type": "code",
   "execution_count": null,
   "id": "ca7ef6b6",
   "metadata": {},
   "outputs": [],
   "source": [
    "img0 = nib.load(os.path.join(source_dir, f\"temp/{status_type}/transformed_123_S_0106_Month_000.0_MRI_2006-01-20.nii\"))\n",
    "img12 = nib.load(os.path.join(source_dir, f\"temp/{status_type}/transformed_123_S_0106_Month_012.3_MRI_2007-01-24.nii\"))\n",
    "img24 = nib.load(os.path.join(source_dir, f\"temp/{status_type}/transformed_123_S_0106_Month_024.8_MRI_2008-02-04.nii\"))\n",
    "# img36 = nib.load(os.path.join(source_dir, f\"temp/{status_type}/transformed_011_S_0021_Month_037.0_MRI_2008-10-23.nii\"))\n",
    "img48 = nib.load(os.path.join(source_dir, f\"temp/{status_type}/transformed_123_S_0106_Month_048.7_MRI_2010-01-21.nii\"))\n",
    "img60 = nib.load(os.path.join(source_dir, f\"temp/{status_type}/transformed_123_S_0106_Month_061.0_MRI_2011-01-24.nii\"))\n",
    "img72 = nib.load(os.path.join(source_dir, f\"temp/{status_type}/transformed_123_S_0106_Month_073.2_MRI_2012-01-25.nii\"))\n",
    "img84 = nib.load(os.path.join(source_dir, f\"temp/{status_type}/transformed_123_S_0106_Month_085.8_MRI_2013-02-05.nii\"))\n",
    "img96 = nib.load(os.path.join(source_dir, f\"temp/{status_type}/transformed_123_S_0106_Month_097.7_MRI_2014-01-28.nii\"))\n",
    "img108 = nib.load(os.path.join(source_dir, f\"temp/{status_type}/transformed_123_S_0106_Month_110.1_MRI_2015-02-04.nii\"))\n",
    "# img120 = nib.load(os.path.join(source_dir, f\"temp/{status_type}/transformed_011_S_0021_Month_122.5_MRI_2015-11-03.nii\"))"
   ]
  },
  {
   "cell_type": "code",
   "execution_count": null,
   "id": "0ab6dde4",
   "metadata": {},
   "outputs": [],
   "source": [
    "img0_ants = ants.from_nibabel(img0)\n",
    "img12_ants = ants.from_nibabel(img12)\n",
    "img24_ants = ants.from_nibabel(img24)\n",
    "# img36_ants = ants.from_nibabel(img36)\n",
    "img48_ants = ants.from_nibabel(img48)\n",
    "img60_ants = ants.from_nibabel(img60)\n",
    "img72_ants = ants.from_nibabel(img72)\n",
    "img84_ants = ants.from_nibabel(img84)\n",
    "img96_ants = ants.from_nibabel(img96)\n",
    "img108_ants = ants.from_nibabel(img108)\n",
    "# img120_ants = ants.from_nibabel(img120)\n",
    "atlas_ants = ants.from_nibabel(atlas)"
   ]
  },
  {
   "cell_type": "code",
   "execution_count": null,
   "id": "4d3aa479",
   "metadata": {},
   "outputs": [],
   "source": [
    "coreg_atlas0 = image_registration(atlas_ants, img0_ants)\n",
    "nib.save(coreg_atlas0, os.path.join(source_dir, f'temp/{status_type}/atlas0_coreg.nii'))"
   ]
  },
  {
   "cell_type": "code",
   "execution_count": null,
   "id": "ca28a8da",
   "metadata": {},
   "outputs": [],
   "source": [
    "extracted_region = 'Hippocampus'\n",
    "# subregions = region_dict[extracted_region]\n",
    "# subregion_ids = [41, 42]\n",
    "subregion_ids = [215, 216, 217, 218]\n",
    "# subregion_ids = [490, 317, 386, 488, 489, 487, 352, 455, 381]"
   ]
  },
  {
   "cell_type": "code",
   "execution_count": null,
   "id": "5467e5d7",
   "metadata": {},
   "outputs": [],
   "source": [
    "rounded_image0 = np.round(coreg_atlas0.get_fdata()).astype(int)\n",
    "extracted_mask0 = np.isin(rounded_image0, subregion_ids)\n",
    "mask_img0 = nib.Nifti1Image(extracted_mask0, img0.affine, header=img0.header)\n",
    "nib.save(mask_img0, os.path.join(source_dir, f'temp/{status_type}/mask0_{extracted_region}.nii'))"
   ]
  },
  {
   "cell_type": "code",
   "execution_count": null,
   "id": "ccb85c0b",
   "metadata": {},
   "outputs": [],
   "source": [
    "final_segmentation = postprocessing_segmentation(mask_img0.get_fdata(), voxel_threshold=75, smoothing_sigma=1, expansion_distance=3)"
   ]
  },
  {
   "cell_type": "code",
   "execution_count": null,
   "id": "122d2ffe",
   "metadata": {},
   "outputs": [],
   "source": [
    "mask_final = nib.Nifti1Image(final_segmentation, img0.affine, header=img0.header)\n",
    "nib.save(mask_final, os.path.join(source_dir, f'temp/{status_type}/mask_{extracted_region}.nii'))"
   ]
  },
  {
   "cell_type": "code",
   "execution_count": null,
   "id": "a849901d",
   "metadata": {},
   "outputs": [],
   "source": [
    "segment0 = np.multiply(img0.get_fdata(), final_segmentation)\n",
    "segment12 = np.multiply(img12.get_fdata(), final_segmentation)\n",
    "segment24 = np.multiply(img24.get_fdata(), final_segmentation)\n",
    "# segment36 = np.multiply(img36.get_fdata(), final_segmentation)\n",
    "segment48 = np.multiply(img48.get_fdata(), final_segmentation)\n",
    "segment60 = np.multiply(img60.get_fdata(), final_segmentation)\n",
    "segment72 = np.multiply(img72.get_fdata(), final_segmentation)\n",
    "segment84 = np.multiply(img84.get_fdata(), final_segmentation)\n",
    "segment96 = np.multiply(img96.get_fdata(), final_segmentation)\n",
    "segment108 = np.multiply(img108.get_fdata(), final_segmentation)\n",
    "# segment120 = np.multiply(img120.get_fdata(), final_segmentation)"
   ]
  },
  {
   "cell_type": "code",
   "execution_count": null,
   "id": "1dbc22de",
   "metadata": {},
   "outputs": [],
   "source": [
    "segment0_img = nib.Nifti1Image(segment0, img0.affine, header=img0.header)\n",
    "nib.save(segment0_img, os.path.join(source_dir, f'temp/{status_type}/seg0_{extracted_region}.nii'))\n",
    "\n",
    "# segment12_img = nib.Nifti1Image(segment12, img12.affine, header=img12.header)\n",
    "# nib.save(segment12_img, os.path.join(source_dir, f'temp/{status_type}/seg12_{extracted_region}.nii'))\n",
    "\n",
    "# segment24_img = nib.Nifti1Image(segment24, img24.affine, header=img24.header)\n",
    "# nib.save(segment24_img, os.path.join(source_dir, f'temp/{status_type}/seg24_{extracted_region}.nii'))\n",
    "\n",
    "# segment36_img = nib.Nifti1Image(segment36, img36.affine, header=img36.header)\n",
    "# nib.save(segment36_img, os.path.join(source_dir, f'temp/{status_type}/seg36_{extracted_region}.nii'))\n",
    "\n",
    "# segment48_img = nib.Nifti1Image(segment48, img48.affine, header=img48.header)\n",
    "# nib.save(segment48_img, os.path.join(source_dir, f'temp/{status_type}/seg48_{extracted_region}.nii'))\n",
    "\n",
    "# segment60_img = nib.Nifti1Image(segment60, img60.affine, header=img60.header)\n",
    "# nib.save(segment60_img, os.path.join(source_dir, f'temp/{status_type}/seg60_{extracted_region}.nii'))"
   ]
  },
  {
   "cell_type": "code",
   "execution_count": null,
   "id": "4b5bfaf4",
   "metadata": {},
   "outputs": [],
   "source": [
    "def compute_gradient_map(image_visit1, image_visit2, output_path, elevation_angle=30, azimuthal_angle=45, roll_angle=0):\n",
    "    norm_image_visit1 = (image_visit1 - np.min(image_visit1)) / (np.max(image_visit1) - np.min(image_visit1))\n",
    "    norm_image_visit2 = (image_visit2 - np.min(image_visit2)) / (np.max(image_visit2) - np.min(image_visit2))\n",
    "    \n",
    "    gradient1 = np.gradient(norm_image_visit1)\n",
    "    gradient2 = np.gradient(norm_image_visit2)\n",
    "    saliency_map1 = np.sqrt(np.sum(np.square(gradient1), axis=0))\n",
    "    saliency_map2 = np.sqrt(np.sum(np.square(gradient2), axis=0))\n",
    "    \n",
    "    gradient_difference = np.abs(saliency_map1 - saliency_map2)\n",
    "    normalized_difference = (gradient_difference - np.min(gradient_difference)) / (np.max(gradient_difference) - np.min(gradient_difference))\n",
    "    \n",
    "    colormap = cm.get_cmap('jet')\n",
    "    \n",
    "    visualize_3d_saliency_grid(gradient_difference, output_path, colormap, elevation_angle, azimuthal_angle, roll_angle)\n",
    "    \n",
    "def compute_gradient_v2_map(image_visit1, image_visit2, output_path, direction, elevation_angle=30, azimuthal_angle=45, roll_angle=0):\n",
    "    norm_image_visit1 = (image_visit1 - np.min(image_visit1)) / (np.max(image_visit1) - np.min(image_visit1))\n",
    "    norm_image_visit2 = (image_visit2 - np.min(image_visit2)) / (np.max(image_visit2) - np.min(image_visit2))\n",
    "    \n",
    "    gradient1_x = np.gradient(norm_image_visit1, axis=0)\n",
    "    gradient1_y = np.gradient(norm_image_visit1, axis=1)\n",
    "    gradient1_z = np.gradient(norm_image_visit1, axis=2)\n",
    "    gradient2_x = np.gradient(norm_image_visit2, axis=0)\n",
    "    gradient2_y = np.gradient(norm_image_visit2, axis=1)\n",
    "    gradient2_z = np.gradient(norm_image_visit2, axis=2)\n",
    "    if direction=='xy':\n",
    "        saliency_map1 = np.arctan2(gradient1_y, gradient1_x)\n",
    "        saliency_map2 = np.arctan2(gradient2_y, gradient2_x)\n",
    "    elif direction=='xz':\n",
    "        saliency_map1 = np.arctan2(gradient1_z, gradient1_x)\n",
    "        saliency_map2 = np.arctan2(gradient2_z, gradient2_x)\n",
    "    elif direction=='yz':\n",
    "        saliency_map1 = np.arctan2(gradient1_z, gradient1_y)\n",
    "        saliency_map2 = np.arctan2(gradient2_z, gradient2_y)\n",
    "    \n",
    "    gradient_difference = np.abs(saliency_map2 - saliency_map1)\n",
    "    #normalized_difference = (gradient_difference - np.min(gradient_difference)) / (np.max(gradient_difference) - np.min(gradient_difference))\n",
    "    \n",
    "    colormap = cm.get_cmap('jet')\n",
    "    \n",
    "    visualize_3d_saliency_grid(gradient_difference, output_path, colormap, elevation_angle, azimuthal_angle, roll_angle)\n",
    "    \n",
    "def compute_gradient_v3_map(image_visit1, image_visit2, output_path, direction, elevation_angle=30, azimuthal_angle=45, roll_angle=0):\n",
    "    norm_image_visit1 = (image_visit1 - np.min(image_visit1)) / (np.max(image_visit1) - np.min(image_visit1))\n",
    "    norm_image_visit2 = (image_visit2 - np.min(image_visit2)) / (np.max(image_visit2) - np.min(image_visit2))\n",
    "    \n",
    "    gradient1_x = np.gradient(norm_image_visit1, axis=0)\n",
    "    gradient1_y = np.gradient(norm_image_visit1, axis=1)\n",
    "    gradient1_z = np.gradient(norm_image_visit1, axis=2)\n",
    "    gradient2_x = np.gradient(norm_image_visit2, axis=0)\n",
    "    gradient2_y = np.gradient(norm_image_visit2, axis=1)\n",
    "    gradient2_z = np.gradient(norm_image_visit2, axis=2)\n",
    "    if direction=='x':\n",
    "        saliency_map1 = np.arctan2(np.sqrt(gradient1_y**2 + gradient1_z**2), gradient1_x)\n",
    "        saliency_map2 = np.arctan2(np.sqrt(gradient2_y**2 + gradient2_z**2), gradient2_x)\n",
    "    elif direction=='y':\n",
    "        saliency_map1 = np.arctan2(np.sqrt(gradient1_x**2 + gradient1_z**2), gradient1_y)\n",
    "        saliency_map2 = np.arctan2(np.sqrt(gradient2_x**2 + gradient2_z**2), gradient2_y)\n",
    "    elif direction=='z':\n",
    "        saliency_map1 = np.arctan2(np.sqrt(gradient1_x**2 + gradient1_y**2), gradient1_z)\n",
    "        saliency_map2 = np.arctan2(np.sqrt(gradient2_x**2 + gradient2_y**2), gradient2_z)\n",
    "    \n",
    "    gradient_difference = np.abs(saliency_map2 - saliency_map1)\n",
    "    #normalized_difference = (gradient_difference - np.min(gradient_difference)) / (np.max(gradient_difference) - np.min(gradient_difference))\n",
    "    \n",
    "    colormap = cm.get_cmap('jet')\n",
    "    \n",
    "    visualize_3d_saliency_grid(gradient_difference, output_path, colormap, elevation_angle, azimuthal_angle, roll_angle)\n",
    "\n",
    "def compute_saliency_map(image_visit1, image_visit2, output_path, elevation_angle=30, azimuthal_angle=45, roll_angle=0):\n",
    "    norm_image_visit1 = (image_visit1 - np.min(image_visit1)) / (np.max(image_visit1) - np.min(image_visit1))\n",
    "    norm_image_visit2 = (image_visit2 - np.min(image_visit2)) / (np.max(image_visit2) - np.min(image_visit2))\n",
    "    \n",
    "    \n",
    "    # Compute the absolute difference between the two images\n",
    "    difference_image = np.abs(norm_image_visit2 - norm_image_visit1)\n",
    "    \n",
    "    # Normalize the difference image to the range [0, 1]\n",
    "    normalized_difference = (difference_image - np.min(difference_image)) / (np.max(difference_image) - np.min(difference_image))\n",
    "    \n",
    "    colormap = cm.get_cmap('jet')\n",
    "\n",
    "    # Visualize the saliency map in 3D\n",
    "    visualize_3d_saliency(difference_image, output_path, colormap, elevation_angle, azimuthal_angle, roll_angle)\n",
    "    \n",
    "def visualize_3d_saliency(saliency_map, output_path, colormap, elevation_angle, azimuthal_angle, roll_angle):\n",
    "    fig = plt.figure()\n",
    "    ax = fig.add_subplot(111, projection='3d')\n",
    "\n",
    "    # Extract the indices of non-zero values to represent salient regions\n",
    "    salient_indices = np.transpose(np.nonzero(saliency_map))\n",
    "\n",
    "    # Create a scatter plot for salient regions using the chosen colormap\n",
    "    sc = ax.scatter(salient_indices[:, 0], salient_indices[:, 1], salient_indices[:, 2],\n",
    "                    c=saliency_map[salient_indices[:, 0], salient_indices[:, 1], salient_indices[:, 2]],\n",
    "                    cmap=colormap, marker='o', alpha=0.5#, vmin=0, vmax=1\n",
    "                   )\n",
    "\n",
    "#     ax.set_xlabel('X')\n",
    "#     ax.set_ylabel('Y')\n",
    "#     ax.set_zlabel('Z')\n",
    "\n",
    "    # Set up the angle of the 3D view\n",
    "    ax.view_init(elevation_angle, azimuthal_angle, roll_angle)\n",
    "    plt.axis('off')\n",
    "\n",
    "    # Add colorbar\n",
    "#     cbar = plt.colorbar(sc)\n",
    "#     cbar.set_label('Normalized Saliency')\n",
    "\n",
    "#     plt.title('3D Saliency Map Visualization')\n",
    "    plt.savefig(output_path, bbox_inches='tight', pad_inches=0)\n",
    "    plt.show()\n",
    "\n",
    "def visualize_3d_saliency_grid(saliency_map, output_path, colormap, elevation_angle, azimuthal_angle, roll_angle):\n",
    "    fig, axes = plt.subplots(nrows=2, ncols=2, subplot_kw={'projection': '3d'})\n",
    "    salient_indices = np.transpose(np.nonzero(saliency_map))\n",
    "    for i, ax in enumerate(axes.flat):\n",
    "        sc = ax.scatter(salient_indices[:, 0], salient_indices[:, 1], salient_indices[:, 2],\n",
    "                        c=saliency_map[salient_indices[:, 0], salient_indices[:, 1], salient_indices[:, 2]],\n",
    "                        cmap=colormap, marker='o', alpha=0.5#, vmin=0, vmax=1\n",
    "                        )\n",
    "        ax.set_xlabel('X')\n",
    "        ax.set_ylabel('Y')\n",
    "        ax.set_zlabel('Z')\n",
    "        ax.view_init(elevation_angle[i], azimuthal_angle[i], roll_angle[i])\n",
    "    \n",
    "    fig.colorbar(sc, ax=axes.ravel().tolist(), shrink=0.8, pad=0.1)\n",
    "    fig.savefig(output_path, bbox_inches='tight', pad_inches=0)\n",
    "    plt.show()"
   ]
  },
  {
   "cell_type": "code",
   "execution_count": null,
   "id": "d1676d07",
   "metadata": {},
   "outputs": [],
   "source": [
    "def visualize_all_saliency(list_visits, saliency_type='diff', direction=None):\n",
    "    for visit in list_visits:\n",
    "        if visit==12:\n",
    "            target_visit = segment12\n",
    "        elif visit==24:\n",
    "            target_visit = segment24\n",
    "        elif visit==36:\n",
    "            target_visit = segment36\n",
    "        elif visit==48:\n",
    "            target_visit = segment48\n",
    "        elif visit==60:\n",
    "            target_visit = segment60\n",
    "        elif visit==72:\n",
    "            target_visit = segment72\n",
    "        elif visit==84:\n",
    "            target_visit = segment84\n",
    "        elif visit==96:\n",
    "            target_visit = segment96\n",
    "        elif visit==108:\n",
    "            target_visit = segment108\n",
    "        if saliency_type=='diff':\n",
    "            output_path = os.path.join(source_dir, f'temp/{status_type}/saliency_{saliency_type}_0_{visit}_{extracted_region}_30_45.png')\n",
    "            compute_saliency_map(segment0, target_visit, output_path, elevation_angle=30, azimuthal_angle=45, roll_angle=0)\n",
    "            output_path = os.path.join(source_dir, f'temp/{status_type}/saliency_{saliency_type}_0_{visit}_{extracted_region}_30_90.png')\n",
    "            compute_saliency_map(segment0, target_visit, output_path, elevation_angle=30, azimuthal_angle=90, roll_angle=0)\n",
    "            output_path = os.path.join(source_dir, f'temp/{status_type}/saliency_{saliency_type}_0_{visit}_{extracted_region}_30_135.png')\n",
    "            compute_saliency_map(segment0, target_visit, output_path, elevation_angle=30, azimuthal_angle=135, roll_angle=0)\n",
    "            output_path = os.path.join(source_dir, f'temp/{status_type}/saliency_{saliency_type}_0_{visit}_{extracted_region}_210_90.png')\n",
    "            compute_saliency_map(segment0, target_visit, output_path, elevation_angle=210, azimuthal_angle=90, roll_angle=0)\n",
    "        elif saliency_type=='grad':\n",
    "            output_path = os.path.join(source_dir, f'temp/{status_type}/saliency_{saliency_type}_0_{visit}_{extracted_region}_30_45.png')\n",
    "            compute_gradient_map(segment0, target_visit, output_path, elevation_angle=30, azimuthal_angle=45, roll_angle=0)\n",
    "            output_path = os.path.join(source_dir, f'temp/{status_type}/saliency_{saliency_type}_0_{visit}_{extracted_region}_30_90.png')\n",
    "            compute_gradient_map(segment0, target_visit, output_path, elevation_angle=30, azimuthal_angle=90, roll_angle=0)\n",
    "            output_path = os.path.join(source_dir, f'temp/{status_type}/saliency_{saliency_type}_0_{visit}_{extracted_region}_30_135.png')\n",
    "            compute_gradient_map(segment0, target_visit, output_path, elevation_angle=30, azimuthal_angle=135, roll_angle=0)\n",
    "            output_path = os.path.join(source_dir, f'temp/{status_type}/saliency_{saliency_type}_0_{visit}_{extracted_region}_210_90.png')\n",
    "            compute_gradient_map(segment0, target_visit, output_path, elevation_angle=210, azimuthal_angle=90, roll_angle=0)\n",
    "        elif saliency_type=='grad_v2':\n",
    "            output_path = os.path.join(source_dir, f'temp/{status_type}/saliency_{saliency_type}_{direction}_0_{visit}_{extracted_region}_30_45.png')\n",
    "            compute_gradient_v2_map(segment0, target_visit, output_path, direction, elevation_angle=30, azimuthal_angle=45, roll_angle=0)\n",
    "            output_path = os.path.join(source_dir, f'temp/{status_type}/saliency_{saliency_type}_{direction}_0_{visit}_{extracted_region}_30_90.png')\n",
    "            compute_gradient_v2_map(segment0, target_visit, output_path, direction, elevation_angle=30, azimuthal_angle=90, roll_angle=0)\n",
    "            output_path = os.path.join(source_dir, f'temp/{status_type}/saliency_{saliency_type}_{direction}_0_{visit}_{extracted_region}_30_135.png')\n",
    "            compute_gradient_v2_map(segment0, target_visit, output_path, direction, elevation_angle=30, azimuthal_angle=135, roll_angle=0)\n",
    "            output_path = os.path.join(source_dir, f'temp/{status_type}/saliency_{saliency_type}_{direction}_0_{visit}_{extracted_region}_210_90.png')\n",
    "            compute_gradient_v2_map(segment0, target_visit, output_path, direction, elevation_angle=210, azimuthal_angle=90, roll_angle=0)\n",
    "        elif saliency_type=='grad_v3':\n",
    "            output_path = os.path.join(source_dir, f'temp/{status_type}/saliency_{saliency_type}_{direction}_0_{visit}_{extracted_region}_30_45.png')\n",
    "            compute_gradient_v3_map(segment0, target_visit, output_path, direction, elevation_angle=30, azimuthal_angle=45, roll_angle=0)\n",
    "            output_path = os.path.join(source_dir, f'temp/{status_type}/saliency_{saliency_type}_{direction}_0_{visit}_{extracted_region}_30_90.png')\n",
    "            compute_gradient_v3_map(segment0, target_visit, output_path, direction, elevation_angle=30, azimuthal_angle=90, roll_angle=0)\n",
    "            output_path = os.path.join(source_dir, f'temp/{status_type}/saliency_{saliency_type}_{direction}_0_{visit}_{extracted_region}_30_135.png')\n",
    "            compute_gradient_v3_map(segment0, target_visit, output_path, direction, elevation_angle=30, azimuthal_angle=135, roll_angle=0)\n",
    "            output_path = os.path.join(source_dir, f'temp/{status_type}/saliency_{saliency_type}_{direction}_0_{visit}_{extracted_region}_210_90.png')\n",
    "            compute_gradient_v3_map(segment0, target_visit, output_path, direction, elevation_angle=210, azimuthal_angle=90, roll_angle=0)"
   ]
  },
  {
   "cell_type": "code",
   "execution_count": null,
   "id": "cedebba7",
   "metadata": {},
   "outputs": [],
   "source": [
    "def visualize_all_saliency_grid(list_visits, saliency_type='diff', direction=None):\n",
    "    for visit in list_visits:\n",
    "        if visit==12:\n",
    "            target_visit = segment12\n",
    "        elif visit==24:\n",
    "            target_visit = segment24\n",
    "        elif visit==36:\n",
    "            target_visit = segment36\n",
    "        elif visit==48:\n",
    "            target_visit = segment48\n",
    "        elif visit==60:\n",
    "            target_visit = segment60\n",
    "        elif visit==72:\n",
    "            target_visit = segment72\n",
    "        elif visit==84:\n",
    "            target_visit = segment84\n",
    "        elif visit==96:\n",
    "            target_visit = segment96\n",
    "        elif visit==108:\n",
    "            target_visit = segment108\n",
    "        elif visit==120:\n",
    "            target_visit = segment120\n",
    "        if saliency_type=='diff':\n",
    "            output_path = os.path.join(source_dir, f'temp/{status_type}/saliency_{saliency_type}_0_{visit}_{extracted_region}.png')\n",
    "            compute_saliency_map(segment0, target_visit, output_path, elevation_angle=[30,210,30,30], azimuthal_angle=[90,90,45,135], roll_angle=[0,0,0,0])\n",
    "        elif saliency_type=='grad':\n",
    "            output_path = os.path.join(source_dir, f'temp/{status_type}/saliency_{saliency_type}_0_{visit}_{extracted_region}.png')\n",
    "            compute_gradient_map(segment0, target_visit, output_path, elevation_angle=[30,210,30,30], azimuthal_angle=[90,90,45,135], roll_angle=[0,0,0,0])\n",
    "        elif saliency_type=='grad_v2':\n",
    "            output_path = os.path.join(source_dir, f'temp/{status_type}/saliency_{saliency_type}_{direction}_0_{visit}_{extracted_region}.png')\n",
    "            compute_gradient_v2_map(segment0, target_visit, output_path, direction, elevation_angle=[30,210,30,30], azimuthal_angle=[90,90,45,135], roll_angle=[0,0,0,0])\n",
    "        elif saliency_type=='grad_v3':\n",
    "            output_path = os.path.join(source_dir, f'temp/{status_type}/saliency_{saliency_type}_{direction}_0_{visit}_{extracted_region}.png')\n",
    "            compute_gradient_v3_map(segment0, target_visit, output_path, direction, elevation_angle=[30,210,30,30], azimuthal_angle=[90,90,45,135], roll_angle=[0,0,0,0])"
   ]
  },
  {
   "cell_type": "code",
   "execution_count": null,
   "id": "6886f2c1",
   "metadata": {
    "scrolled": true
   },
   "outputs": [],
   "source": [
    "list_visits = [12,24,48,60,72,84,96,108]\n",
    "visualize_all_saliency(list_visits, 'diff')\n",
    "# visualize_all_saliency_grid(list_visits, 'grad')\n",
    "# visualize_all_saliency_grid(list_visits, 'grad_v2', direction='xy')\n",
    "# visualize_all_saliency_grid(list_visits, 'grad_v2', direction='xz')\n",
    "# visualize_all_saliency_grid(list_visits, 'grad_v2', direction='yz')\n",
    "# visualize_all_saliency_grid(list_visits, 'grad_v3', direction='x')\n",
    "# visualize_all_saliency_grid(list_visits, 'grad_v3', direction='y')\n",
    "# visualize_all_saliency_grid(list_visits, 'grad_v3', direction='z')"
   ]
  },
  {
   "cell_type": "code",
   "execution_count": null,
   "id": "65523aa8",
   "metadata": {},
   "outputs": [],
   "source": []
  },
  {
   "cell_type": "code",
   "execution_count": null,
   "id": "626ae2df",
   "metadata": {},
   "outputs": [],
   "source": [
    "import os\n",
    "import glob\n",
    "import shutil\n",
    "import pandas as pd"
   ]
  },
  {
   "cell_type": "code",
   "execution_count": null,
   "id": "d3cf6a3c",
   "metadata": {},
   "outputs": [],
   "source": []
  },
  {
   "cell_type": "code",
   "execution_count": null,
   "id": "ab8dfbe3",
   "metadata": {},
   "outputs": [],
   "source": [
    "csv_files = [file for file in os.listdir('./data') if file.endswith('0.csv')]"
   ]
  },
  {
   "cell_type": "code",
   "execution_count": null,
   "id": "2357dede",
   "metadata": {},
   "outputs": [],
   "source": [
    "csv_files"
   ]
  },
  {
   "cell_type": "code",
   "execution_count": null,
   "id": "bede40b6",
   "metadata": {},
   "outputs": [],
   "source": [
    "merged_data = pd.DataFrame()\n",
    "for file in csv_files:\n",
    "    file_path = os.path.join('./data', file)\n",
    "    df = pd.read_csv(file_path)\n",
    "    #df_filtered = df[(df['Min_X'] < 40) & (df['Type'] == 'DG1')]\n",
    "    merged_data = pd.concat([merged_data, df], ignore_index=True)"
   ]
  },
  {
   "cell_type": "code",
   "execution_count": null,
   "id": "fcbb1c3d",
   "metadata": {},
   "outputs": [],
   "source": [
    "merged_data.to_csv('./data/ADNI_Hippocampus_merged.csv', header=True, index=False)"
   ]
  },
  {
   "cell_type": "code",
   "execution_count": null,
   "id": "404eed1a",
   "metadata": {},
   "outputs": [],
   "source": []
  },
  {
   "cell_type": "code",
   "execution_count": null,
   "id": "b08148d3",
   "metadata": {},
   "outputs": [],
   "source": [
    "source_dir = '/ngochuynh/f/Dataset/ADNI/ADNI_saliency'"
   ]
  },
  {
   "cell_type": "code",
   "execution_count": null,
   "id": "b0e88a72",
   "metadata": {},
   "outputs": [],
   "source": [
    "wrong_data = pd.read_csv('./data/wrong_coreg.csv')\n",
    "data = pd.read_csv('./data/ADNI_Hippocampus_merged.csv')"
   ]
  },
  {
   "cell_type": "code",
   "execution_count": null,
   "id": "1188991b",
   "metadata": {},
   "outputs": [],
   "source": [
    "def delete_folder(ptid, parent_dir):\n",
    "    folder_path = os.path.join(parent_dir, ptid)\n",
    "    if os.path.exists(folder_path):\n",
    "        # Delete the folder and its contents\n",
    "        shutil.rmtree(folder_path)"
   ]
  },
  {
   "cell_type": "code",
   "execution_count": null,
   "id": "1afedc90",
   "metadata": {},
   "outputs": [],
   "source": [
    "def delete_folder_v2(ptid, visit, parent_dir):\n",
    "    folder_path = os.path.join(parent_dir, ptid)\n",
    "    sample_dir = glob.glob(os.path.join(folder_path, 'Hippocampus', 'sample*'))\n",
    "    for sample in sample_dir:\n",
    "        visit_dir = glob.glob(os.path.join(sample, '*'))\n",
    "        for vis in visit_dir:\n",
    "            vis_name = os.path.basename(vis)\n",
    "            vis_1 = int(vis_name.split('_')[0])\n",
    "            vis_2 = int(vis_name.split('_')[1])\n",
    "            if (vis_1==visit) or (vis_2==visit):\n",
    "                shutil.rmtree(vis)\n",
    "        items = os.listdir(sample)\n",
    "        subfolders = [item for item in items if os.path.isdir(os.path.join(sample, item))]\n",
    "        if not subfolders:\n",
    "            shutil.rmtree(sample)"
   ]
  },
  {
   "cell_type": "code",
   "execution_count": null,
   "id": "df04bb6a",
   "metadata": {},
   "outputs": [],
   "source": [
    "for index, row in wrong_data.iterrows():\n",
    "    if row['Visit'] != 999:\n",
    "        delete_folder_v2(row['PTID'], row['Visit'], source_dir)"
   ]
  },
  {
   "cell_type": "code",
   "execution_count": null,
   "id": "8e7ad8b5",
   "metadata": {},
   "outputs": [],
   "source": [
    "for index, row in wrong_data.iterrows():\n",
    "    if row['Visit'] == 999:\n",
    "        ptid_to_drop = row['PTID']\n",
    "        # Drop rows where PatientID is equal to ptid_to_drop\n",
    "        data = data[data['PatientID'] != ptid_to_drop]"
   ]
  },
  {
   "cell_type": "code",
   "execution_count": null,
   "id": "a038d14f",
   "metadata": {},
   "outputs": [],
   "source": [
    "delete_folder_v2('002_S_4473', 48, source_dir)"
   ]
  },
  {
   "cell_type": "code",
   "execution_count": null,
   "id": "e6672420",
   "metadata": {},
   "outputs": [],
   "source": []
  },
  {
   "cell_type": "code",
   "execution_count": null,
   "id": "a41ec54e",
   "metadata": {},
   "outputs": [],
   "source": [
    "df = pd.read_csv('./data/ADNIMERGE_modified_labels.csv', low_memory=False)\n",
    "df['SAL_PATHS'] = None\n",
    "source_dir = '/ngochuynh/f/Dataset/ADNI/ADNI_saliency'"
   ]
  },
  {
   "cell_type": "code",
   "execution_count": null,
   "id": "ca6f6ab2",
   "metadata": {},
   "outputs": [],
   "source": [
    "df_new = pd.DataFrame(columns=list(df.columns))"
   ]
  },
  {
   "cell_type": "code",
   "execution_count": null,
   "id": "ab067709",
   "metadata": {},
   "outputs": [],
   "source": [
    "items = os.listdir(source_dir)\n",
    "subfolders = [item for item in items if os.path.isdir(os.path.join(source_dir, item))]"
   ]
  },
  {
   "cell_type": "code",
   "execution_count": null,
   "id": "a7df78e8",
   "metadata": {
    "scrolled": true
   },
   "outputs": [],
   "source": [
    "dfs = []\n",
    "for ptid in subfolders:\n",
    "    pre_num = int(ptid.split(\"_\")[0])\n",
    "    if pre_num <= 126:\n",
    "        items = os.listdir(os.path.join(source_dir,ptid,\"Hippocampus\"))\n",
    "        subdirs = [item for item in items if os.path.isdir(os.path.join(source_dir,ptid,\"Hippocampus\",item))]\n",
    "        for sample in subdirs:\n",
    "            visits = os.listdir(os.path.join(source_dir,ptid,\"Hippocampus\",sample))\n",
    "            bl_visit = visits[0].split(\"_\")[0]\n",
    "            df_temp = df[(df[\"PTID\"]==ptid) & (df[\"M\"]==int(bl_visit))]\n",
    "            df_temp.reset_index(drop=True, inplace=True)\n",
    "            list_visits = [os.path.join(source_dir,ptid,\"Hippocampus\",sample, v) for v in visits]\n",
    "            df_temp['SAL_PATHS'] = [list_visits]\n",
    "            df_new = pd.concat([df_new, df_temp])"
   ]
  },
  {
   "cell_type": "code",
   "execution_count": null,
   "id": "31f25ca6",
   "metadata": {},
   "outputs": [],
   "source": [
    "df_sorted = df_new.sort_values(by=['RID', 'M'], ascending=[True, True])"
   ]
  },
  {
   "cell_type": "code",
   "execution_count": null,
   "id": "f6ce1707",
   "metadata": {},
   "outputs": [],
   "source": [
    "df_sorted = df_sorted[(df_sorted['VISMISS'] == False) & (~df_sorted['PROGRESS_STATE_3Y'].isna())]\n",
    "df_sorted.reset_index(drop=True, inplace=True)"
   ]
  },
  {
   "cell_type": "code",
   "execution_count": null,
   "id": "85d2db6c",
   "metadata": {},
   "outputs": [],
   "source": [
    "df_sorted.to_csv('./data/ADNI_saliency.csv', header=True, index=False)"
   ]
  },
  {
   "cell_type": "code",
   "execution_count": null,
   "id": "e66c5659",
   "metadata": {},
   "outputs": [],
   "source": [
    "df_sorted = df_sorted[df_sorted['RID'].notna()]"
   ]
  },
  {
   "cell_type": "code",
   "execution_count": null,
   "id": "57b0ab2c",
   "metadata": {},
   "outputs": [],
   "source": [
    "check_columns = ['PROGRESS_STATE_5Y']"
   ]
  },
  {
   "cell_type": "code",
   "execution_count": null,
   "id": "90826cbe",
   "metadata": {},
   "outputs": [],
   "source": [
    "def determine_conv_state_group(group):\n",
    "    values_list = group[check_columns].values.flatten().tolist()\n",
    "    values_list = [value for value in values_list if pd.notna(value)]\n",
    "    #print(values_list)\n",
    "    if all(visit == 'CN_CN' or visit == 'MCI_MCI' for visit in values_list):\n",
    "        return 0\n",
    "    elif any(visit in ['CN_MCI', 'CN_Dementia', 'MCI_Dementia'] for visit in values_list):\n",
    "        return 1\n",
    "    elif all(visit == 'Dementia_Dementia' for visit in values_list):\n",
    "        return 2\n",
    "    else:\n",
    "        return -1"
   ]
  },
  {
   "cell_type": "code",
   "execution_count": null,
   "id": "72026a43",
   "metadata": {},
   "outputs": [],
   "source": [
    "def determine_conv_state(row):\n",
    "    visit = row[check_columns].values\n",
    "    if visit == 'CN_CN' or visit == 'MCI_MCI':\n",
    "        return 0\n",
    "    elif visit in ['CN_MCI', 'CN_Dementia', 'MCI_Dementia']:\n",
    "        return 1\n",
    "    elif visit == 'Dementia_Dementia':\n",
    "        return 2\n",
    "    else:\n",
    "        return -1"
   ]
  },
  {
   "cell_type": "code",
   "execution_count": null,
   "id": "845f4955",
   "metadata": {},
   "outputs": [],
   "source": [
    "df_sorted['CONV_STATE_5Y'] = df_sorted.apply(determine_conv_state, axis=1)"
   ]
  },
  {
   "cell_type": "code",
   "execution_count": null,
   "id": "6edbbfa8",
   "metadata": {
    "scrolled": true
   },
   "outputs": [],
   "source": [
    "df_sorted['CONV_STATE'] = df_sorted.groupby('RID', group_keys=False).apply(determine_conv_state)"
   ]
  },
  {
   "cell_type": "code",
   "execution_count": null,
   "id": "f5c2ba63",
   "metadata": {},
   "outputs": [],
   "source": [
    "conv_state_list = []\n",
    "for rid in df_sorted['RID'].unique():\n",
    "    group = df_sorted[df_sorted['RID'] == rid]\n",
    "    values_list = group[check_columns].values.flatten().tolist()\n",
    "    values_list = [value for value in values_list if pd.notna(value)]\n",
    "    \n",
    "    if all(visit == 'CN_CN' or visit == 'MCI_MCI' for visit in values_list):\n",
    "        conv_state_list.extend([0] * len(group))\n",
    "    elif any(visit in ['CN_MCI', 'CN_Dementia', 'MCI_Dementia'] for visit in values_list):\n",
    "        conv_state_list.extend([1] * len(group))\n",
    "    elif all(visit == 'Dementia_Dementia' for visit in values_list):\n",
    "        conv_state_list.extend([2] * len(group))\n",
    "    else:\n",
    "        conv_state_list.extend([None] * len(group))"
   ]
  },
  {
   "cell_type": "code",
   "execution_count": null,
   "id": "3cae07e9",
   "metadata": {},
   "outputs": [],
   "source": [
    "df_sorted['CONV_STATE_5Y'].value_counts()"
   ]
  },
  {
   "cell_type": "code",
   "execution_count": null,
   "id": "463b0bbc",
   "metadata": {},
   "outputs": [],
   "source": []
  },
  {
   "cell_type": "code",
   "execution_count": null,
   "id": "92a4d762",
   "metadata": {},
   "outputs": [],
   "source": []
  },
  {
   "cell_type": "code",
   "execution_count": null,
   "id": "f04934ce",
   "metadata": {},
   "outputs": [],
   "source": [
    "import os\n",
    "import glob\n",
    "import nibabel as nib\n",
    "import matplotlib.pyplot as plt\n",
    "from matplotlib.colors import ListedColormap\n",
    "from tqdm.notebook import tqdm\n",
    "\n",
    "from IPython.display import display"
   ]
  },
  {
   "cell_type": "code",
   "execution_count": null,
   "id": "6cb6d916",
   "metadata": {},
   "outputs": [],
   "source": [
    "def visualize_slice(image_path, mask_path, slice_index, dimension='axial', output_path=None):\n",
    "    # Load the image and mask\n",
    "    image = nib.load(image_path).get_fdata()\n",
    "    mask = nib.load(mask_path).get_fdata()\n",
    "\n",
    "    # Select the slice based on the chosen dimension\n",
    "    if dimension == 'axial':\n",
    "        slice_data = image[:, :, slice_index]\n",
    "        mask_slice = mask[:, :, slice_index]\n",
    "    elif dimension == 'coronal':\n",
    "        slice_data = image[:, slice_index, :]\n",
    "        mask_slice = mask[:, slice_index, :]\n",
    "    elif dimension == 'sagittal':\n",
    "        slice_data = image[slice_index, :, :]\n",
    "        mask_slice = mask[slice_index, :, :]\n",
    "    else:\n",
    "        raise ValueError(\"Invalid dimension. Use 'axial', 'coronal', or 'sagittal'.\")\n",
    "    \n",
    "    cmap = ListedColormap(['black', 'red'], name='overlay_cmap')\n",
    "\n",
    "    # Plot the image\n",
    "    plt.imshow(slice_data, cmap='gray')\n",
    "\n",
    "    # Overlay the mask with transparency\n",
    "    plt.imshow(mask_slice, cmap=cmap, alpha=0.3)\n",
    "\n",
    "    # Add title and show the plot\n",
    "    #plt.title(f\"{dimension.capitalize()} Slice with Mask Overlay\")\n",
    "    #plt.colorbar()\n",
    "    plt.axis(\"off\")\n",
    "    plt.savefig(output_path, format='png', bbox_inches='tight', pad_inches=0, transparent=True, dpi=300)\n",
    "    #plt.show()\n",
    "    plt.close()"
   ]
  },
  {
   "cell_type": "code",
   "execution_count": null,
   "id": "5a6f7171",
   "metadata": {},
   "outputs": [],
   "source": [
    "image_path = \"/ngochuynh/f/Dataset/ADNI/smooth_002_S_0295_Month_006.6_MRI_2006-11-02.nii\"\n",
    "mask_path = \"/ngochuynh/f/Dataset/ADNI/region_mask.nii\"\n",
    "slice_index = 105\n",
    "dimension = \"coronal\"\n",
    "output_path = \"/ngochuynh/f/Dataset/ADNI/overlay.png\""
   ]
  },
  {
   "cell_type": "code",
   "execution_count": null,
   "id": "33348f58",
   "metadata": {},
   "outputs": [],
   "source": [
    "visualize_slice(image_path, mask_path, slice_index, dimension, output_path)"
   ]
  },
  {
   "cell_type": "code",
   "execution_count": null,
   "id": "2a6ca3c7",
   "metadata": {},
   "outputs": [],
   "source": []
  },
  {
   "cell_type": "code",
   "execution_count": null,
   "id": "dc35d675",
   "metadata": {},
   "outputs": [],
   "source": [
    "source_dir = \"/ngochuynh/f/Dataset/ADNI/\"\n",
    "all_items = os.listdir(os.path.join(source_dir, \"ADNI_saliency\"))\n",
    "subfolders = [item for item in all_items if (os.path.isdir(os.path.join(source_dir, \"ADNI_saliency\", item))) and (int(item.split('_')[0])>136)]"
   ]
  },
  {
   "cell_type": "code",
   "execution_count": null,
   "id": "e82cc7e5",
   "metadata": {},
   "outputs": [],
   "source": [
    "slice_index = 105\n",
    "dimension = \"coronal\""
   ]
  },
  {
   "cell_type": "code",
   "execution_count": null,
   "id": "4ac33b7f",
   "metadata": {},
   "outputs": [],
   "source": [
    "with tqdm(total=len(subfolders)) as pbar:\n",
    "    for fname in subfolders:\n",
    "        mask_path = os.path.join(source_dir,\"ADNI_saliency\",fname,\"Hippocampus/region_mask.nii\")\n",
    "        list_images = glob.glob(os.path.join(source_dir,\"ADNI_renamed\",fname,\"preprocessed/MRI/smooth_*.nii\"))\n",
    "        for i in range(len(list_images)):\n",
    "            image_path = list_images[i]\n",
    "            basename = os.path.basename(image_path)\n",
    "            output_path = os.path.join(source_dir,\"ADNI_saliency\",fname,f\"Hippocampus/{dimension}_{slice_index}_{basename}_overlay.png\")\n",
    "            visualize_slice(image_path, mask_path, slice_index, dimension, output_path)\n",
    "        pbar.update(1)"
   ]
  },
  {
   "cell_type": "code",
   "execution_count": null,
   "id": "21be9c22",
   "metadata": {},
   "outputs": [],
   "source": []
  },
  {
   "cell_type": "code",
   "execution_count": null,
   "id": "5d6253a1",
   "metadata": {
    "scrolled": true
   },
   "outputs": [],
   "source": [
    "import tensorflow as tf\n",
    "import layers as CLayers"
   ]
  },
  {
   "cell_type": "code",
   "execution_count": null,
   "id": "aca387af",
   "metadata": {
    "scrolled": true
   },
   "outputs": [],
   "source": [
    "input_shape = (4, 85, 50, 45, 4)\n",
    "inputs = tf.random.uniform(input_shape)\n",
    "scn_layer = CLayers.SCN3D(num_channels=[16, 23, 64], kernel_size=3, pool_size=2, dropout=0.2)\n",
    "scn_feat = scn_layer(inputs)"
   ]
  },
  {
   "cell_type": "code",
   "execution_count": null,
   "id": "d5c5aa59",
   "metadata": {},
   "outputs": [],
   "source": [
    "aspp_layer = CLayers.SpatialPyramidPooling3D(16, [6,12,18,24], dropout=0.2)\n",
    "aspp_feat = aspp_layer(scn_feat)"
   ]
  },
  {
   "cell_type": "code",
   "execution_count": null,
   "id": "dde894ef",
   "metadata": {},
   "outputs": [],
   "source": [
    "aspp_feat = tf.reshape(aspp_feat, [-1, tf.shape(aspp_feat)[1]*tf.shape(aspp_feat)[2]*tf.shape(aspp_feat)[3], tf.shape(aspp_feat)[4]])\n",
    "aspp_feat = tf.transpose(aspp_feat, perm=[0, 2, 1])"
   ]
  },
  {
   "cell_type": "code",
   "execution_count": null,
   "id": "bf015b91",
   "metadata": {},
   "outputs": [],
   "source": [
    "tcn_layer = CLayers.TemporalConvNet(num_channels=[512, 256, 128], kernel_size=3, dropout=0.2)\n",
    "tcn_feat = tcn_layer(aspp_feat)"
   ]
  },
  {
   "cell_type": "code",
   "execution_count": null,
   "id": "05f1cd0e",
   "metadata": {},
   "outputs": [],
   "source": [
    "tcn_feat"
   ]
  },
  {
   "cell_type": "code",
   "execution_count": null,
   "id": "e08f1c54",
   "metadata": {},
   "outputs": [],
   "source": []
  },
  {
   "cell_type": "code",
   "execution_count": null,
   "id": "bd8726e3",
   "metadata": {},
   "outputs": [],
   "source": [
    "import tensorflow as tf\n",
    "import numpy as np\n",
    "from positional_encodings.tf_encodings import TFPositionalEncoding3D, TFSummer"
   ]
  },
  {
   "cell_type": "code",
   "execution_count": null,
   "id": "bff7d4c1",
   "metadata": {
    "scrolled": true
   },
   "outputs": [],
   "source": [
    "p_enc_3d = TFPositionalEncoding3D(10)\n",
    "z = tf.convert_to_tensor(np.random.uniform(size=(4,8,6,2,1)), dtype=tf.float32)\n",
    "pe = p_enc_3d(z)\n",
    "pe_z = z + pe"
   ]
  },
  {
   "cell_type": "code",
   "execution_count": null,
   "id": "be3f5091",
   "metadata": {},
   "outputs": [],
   "source": [
    "pe_z[0,...,0]"
   ]
  },
  {
   "cell_type": "code",
   "execution_count": null,
   "id": "be9034d2",
   "metadata": {},
   "outputs": [],
   "source": []
  },
  {
   "cell_type": "code",
   "execution_count": null,
   "id": "cc7dfa34",
   "metadata": {},
   "outputs": [],
   "source": [
    "from scipy import ndimage\n",
    "import time"
   ]
  },
  {
   "cell_type": "code",
   "execution_count": null,
   "id": "e02ec327",
   "metadata": {},
   "outputs": [],
   "source": [
    "input_shape = (30, 85, 50, 45, 9)\n",
    "inputs = {'AbsDiff':tf.random.uniform(input_shape)}"
   ]
  },
  {
   "cell_type": "code",
   "execution_count": null,
   "id": "fc718ec2",
   "metadata": {},
   "outputs": [],
   "source": [
    "model_config = dict(\n",
    "    input_name='AbsDiff',\n",
    "    num_classes=3,\n",
    "    num_filters=[8,16,32,64],\n",
    "    bap_filters=32,\n",
    "    fc_units=[64, 32],\n",
    "    kernel_size=3,\n",
    "    pool_size=2,\n",
    "    dropout=0.35,\n",
    ")\n",
    "model = CLayers.UnimodelS1_CNN_Attention(**model_config)"
   ]
  },
  {
   "cell_type": "code",
   "execution_count": null,
   "id": "0f1cca26",
   "metadata": {},
   "outputs": [],
   "source": [
    "feat, att_map = model(inputs)"
   ]
  },
  {
   "cell_type": "code",
   "execution_count": null,
   "id": "834ce642",
   "metadata": {
    "scrolled": true
   },
   "outputs": [],
   "source": [
    "def random_select_and_resize(input_tensor, feature_map):\n",
    "    batch, height, width, depth, c = input_tensor.shape\n",
    "    _, feat_height, feat_width, feat_depth, f = feature_map.shape\n",
    "    \n",
    "    if f < c:\n",
    "        raise ValueError(\"Number of channels in feature map must be greater than or equal to c.\")\n",
    "    \n",
    "    selected_slices = np.random.choice(f, c, replace=False)\n",
    "    selected_feature = feature_map[:, :, :, :, selected_slices]\n",
    "    \n",
    "    depth_factor = depth / feat_depth\n",
    "    width_factor = width / feat_width\n",
    "    height_factor = height / feat_height\n",
    "    \n",
    "    resized_feature = np.zeros_like(input_tensor)\n",
    "\n",
    "    for i in range(batch):\n",
    "        resized_feature[i,:,:,:,:] = ndimage.zoom(selected_feature[i, :, :, :, :], (height_factor, width_factor, depth_factor, 1), order=2)\n",
    "    \n",
    "    return tf.convert_to_tensor(resized_feature, dtype=tf.float32)"
   ]
  },
  {
   "cell_type": "code",
   "execution_count": null,
   "id": "3ebfe5f9",
   "metadata": {},
   "outputs": [],
   "source": [
    "array = np.random.uniform(size=att_map.shape)"
   ]
  },
  {
   "cell_type": "code",
   "execution_count": null,
   "id": "d315fb86",
   "metadata": {},
   "outputs": [],
   "source": [
    "start_time = time.time()\n",
    "resized_array_2 = ndimage.zoom(array, (1, 85/10, 50/6, 45/5, 1), order=2)\n",
    "print(time.time()-start_time, ' sec')"
   ]
  },
  {
   "cell_type": "code",
   "execution_count": null,
   "id": "823a71dd",
   "metadata": {},
   "outputs": [],
   "source": [
    "start_time = time.time()\n",
    "resized_array_1 = random_select_and_resize(inputs['AbsDiff'].numpy(), att_map.numpy())\n",
    "print(time.time()-start_time, ' sec')"
   ]
  },
  {
   "cell_type": "code",
   "execution_count": null,
   "id": "f0445405",
   "metadata": {},
   "outputs": [],
   "source": [
    "resized_array.shape"
   ]
  },
  {
   "cell_type": "code",
   "execution_count": null,
   "id": "f1571af6",
   "metadata": {
    "scrolled": true
   },
   "outputs": [],
   "source": [
    "resized_array_1"
   ]
  },
  {
   "cell_type": "code",
   "execution_count": null,
   "id": "7a239ea3",
   "metadata": {},
   "outputs": [],
   "source": [
    "def normalize_minmax(tensor):\n",
    "    norm_tensor = tf.math.divide_no_nan (\n",
    "       tf.subtract(\n",
    "          tensor, \n",
    "          tf.reduce_min(tensor)\n",
    "       ), \n",
    "       tf.subtract(\n",
    "          tf.reduce_max(tensor), \n",
    "          tf.reduce_min(tensor)\n",
    "       )\n",
    "    )\n",
    "    return norm_tensor"
   ]
  },
  {
   "cell_type": "code",
   "execution_count": null,
   "id": "2648d6f7",
   "metadata": {},
   "outputs": [],
   "source": [
    "norm_tensor = normalize_minmax(resized_array_1)"
   ]
  },
  {
   "cell_type": "code",
   "execution_count": null,
   "id": "a5d2e067",
   "metadata": {},
   "outputs": [],
   "source": [
    "norm_tensor"
   ]
  },
  {
   "cell_type": "code",
   "execution_count": null,
   "id": "a2e8f8d7",
   "metadata": {},
   "outputs": [],
   "source": []
  },
  {
   "cell_type": "code",
   "execution_count": null,
   "id": "57c0f2ce",
   "metadata": {},
   "outputs": [],
   "source": [
    "import models\n",
    "import tensorflow as tf"
   ]
  },
  {
   "cell_type": "code",
   "execution_count": null,
   "id": "c84eba2b",
   "metadata": {},
   "outputs": [],
   "source": [
    "gpus = tf.config.experimental.list_physical_devices('GPU')\n",
    "if gpus:\n",
    "    try:\n",
    "        # Currently, memory growth needs to be the same across GPUs\n",
    "        for gpu in gpus:\n",
    "            tf.config.experimental.set_memory_growth(gpu, True)\n",
    "        logical_gpus = tf.config.experimental.list_logical_devices('GPU')\n",
    "        print(len(gpus), \"Physical GPUs,\", len(logical_gpus), \"Logical GPUs\")\n",
    "    except RuntimeError as e:\n",
    "        # Memory growth must be set before GPUs have been initialized\n",
    "        print(e)"
   ]
  },
  {
   "cell_type": "code",
   "execution_count": null,
   "id": "0ad731e0",
   "metadata": {},
   "outputs": [],
   "source": [
    "model = models.ProGAN(input_shape=(189,216,189,1), latent_shape=(1024+128,), dicrim_shape=(84,48,42,1))"
   ]
  },
  {
   "cell_type": "code",
   "execution_count": null,
   "id": "22fa1ec6",
   "metadata": {},
   "outputs": [],
   "source": [
    "model._make_model(16,16,16,16,0.3,0.3,1024)"
   ]
  },
  {
   "cell_type": "code",
   "execution_count": null,
   "id": "39705f1a",
   "metadata": {},
   "outputs": [],
   "source": [
    "x  = tf.random.uniform((4,189,216,189,1))\n",
    "pe = tf.random.uniform((4,5,128))\n",
    "y  = tf.random.uniform((4,5,84,48,42,1))\n",
    "m  = tf.constant([[1,1,1,0,0],[1,1,1,1,0],[1,1,0,0,0],[1,0,0,0,0]], dtype=tf.float32)"
   ]
  },
  {
   "cell_type": "code",
   "execution_count": null,
   "id": "9c55beca",
   "metadata": {},
   "outputs": [],
   "source": [
    "flat_m = tf.cast(tf.reshape(m, shape=[-1]), dtype=tf.int32)\n",
    "\n",
    "feat_e1 = model.E1(x, training=False)\n",
    "mean_e1, logvar_e1 = model.encode(feat_e1)\n",
    "z_e1 = model.reparameterize(mean_e1, logvar_e1)\n",
    "latent_e1 = tf.concat((z_e1, pe[:,0,:]), axis=-1)\n",
    "\n",
    "out_de = model.De(latent_e1, training=False)\n",
    "\n",
    "out_gens  = []\n",
    "out_reals = []\n",
    "out_dis  = []\n",
    "is_first = True\n",
    "for i in range(5):   \n",
    "    if i==0:\n",
    "        out_gen = model.G1(latent_e1, training=False)\n",
    "    else:\n",
    "        feat_y = y[:,i-1,:,:,:,:]\n",
    "        feat_e2 = model.E2(feat_y, training=False)\n",
    "        mean_e2, logvar_e2 = model.encode(feat_e2)\n",
    "        z_e2 = model.reparameterize(mean_e2, logvar_e2)\n",
    "        latent_e2 = tf.concat((z_e2, pe[:,i,:]), axis=-1)\n",
    "        out_gen = model.G1(latent_e2, training=False)\n",
    "        out_reals.append(feat_y)\n",
    "    out_gens.append(out_gen)\n",
    "out_reals.append( y[:,-1,:,:,:,:])\n",
    "out_reals = tf.concat(out_reals, axis=0)\n",
    "out_gens  = tf.concat(out_gens, axis=0)\n",
    "\n",
    "out_reals = tf.boolean_mask(out_reals, flat_m, axis=0)\n",
    "out_gens  = tf.boolean_mask(out_gens, flat_m, axis=0)\n",
    "\n",
    "real_logits = model.Di(out_reals)\n",
    "fake_logits = model.Di(out_gens)"
   ]
  },
  {
   "cell_type": "code",
   "execution_count": null,
   "id": "bc9a8587",
   "metadata": {},
   "outputs": [],
   "source": []
  },
  {
   "cell_type": "code",
   "execution_count": null,
   "id": "1ced5c9d",
   "metadata": {},
   "outputs": [],
   "source": [
    "import os\n",
    "import ast\n",
    "import pandas as pd\n",
    "import glob\n",
    "import re"
   ]
  },
  {
   "cell_type": "code",
   "execution_count": null,
   "id": "3a4f4c20",
   "metadata": {},
   "outputs": [],
   "source": [
    "df = pd.read_csv('./data/ADNI_saliency.csv', low_memory=False)"
   ]
  },
  {
   "cell_type": "code",
   "execution_count": null,
   "id": "cfe265ba",
   "metadata": {},
   "outputs": [],
   "source": [
    "source_dir = '/ngochuynh/f/Dataset/ADNI/ADNI_renamed'"
   ]
  },
  {
   "cell_type": "code",
   "execution_count": null,
   "id": "c3ed1577",
   "metadata": {},
   "outputs": [],
   "source": [
    "for i in range(len(df)):\n",
    "    sal_paths = df.loc[i,'SAL_PATHS']\n",
    "    sp = ast.literal_eval(sal_paths)\n",
    "    new_sp = []\n",
    "    for p in sp:\n",
    "        parts = p.split('/')\n",
    "        idx   = parts.index('ADNI_saliency')\n",
    "        new_p = '/'.join(parts[idx:])\n",
    "        new_sp.append(new_p)\n",
    "    df.at[i,'SAL_PATHS'] = new_sp\n",
    "    \n",
    "    ptid = df.loc[i, 'PTID']\n",
    "    mri_paths = glob.glob(os.path.join(source_dir, ptid, 'preprocessed/MRI/smooth_*.nii'))\n",
    "    src_visit = df.loc[i, 'M']\n",
    "    \n",
    "    closest_path = min(mri_paths, key=lambda path: abs(float(re.search(r'Month_(\\d+\\.\\d+)', path).group(1)) - src_visit))\n",
    "    parts = closest_path.split('/')\n",
    "    idx   = parts.index('ADNI_renamed')\n",
    "    new_path = '/'.join(parts[idx:])\n",
    "    df.at[i,'MRI_IMG'] = new_path"
   ]
  },
  {
   "cell_type": "code",
   "execution_count": null,
   "id": "d25675d6",
   "metadata": {},
   "outputs": [],
   "source": [
    "df.to_csv('./data/ADNI_saliency.csv', header=True, index=False)"
   ]
  },
  {
   "cell_type": "code",
   "execution_count": null,
   "id": "992f0b6b",
   "metadata": {},
   "outputs": [],
   "source": []
  },
  {
   "cell_type": "code",
   "execution_count": null,
   "id": "54875986",
   "metadata": {},
   "outputs": [],
   "source": [
    "import dataloader as DL"
   ]
  },
  {
   "cell_type": "code",
   "execution_count": null,
   "id": "847b0219",
   "metadata": {},
   "outputs": [],
   "source": [
    "ds_config = dict(\n",
    "    source_dir=\"/ngochuynh/f/Dataset/ADNI\",\n",
    "    filepath=\"./data/ADNI_saliency.csv\",\n",
    "    list_rids=[4,5,6,8,14,15,16,19,21,23],\n",
    "    input_name=\"AbsDiff\",  \n",
    ")"
   ]
  },
  {
   "cell_type": "code",
   "execution_count": null,
   "id": "29463b96",
   "metadata": {},
   "outputs": [],
   "source": [
    "ds = DL.InputFunctionS2(**ds_config, shuffle=True)"
   ]
  },
  {
   "cell_type": "code",
   "execution_count": null,
   "id": "1bbb2777",
   "metadata": {},
   "outputs": [],
   "source": [
    "for feat, label in ds():\n",
    "    break"
   ]
  },
  {
   "cell_type": "code",
   "execution_count": null,
   "id": "386635fd",
   "metadata": {},
   "outputs": [],
   "source": [
    "label['mask_visits']"
   ]
  },
  {
   "cell_type": "code",
   "execution_count": null,
   "id": "5f79cbd6",
   "metadata": {},
   "outputs": [],
   "source": []
  }
 ],
 "metadata": {
  "kernelspec": {
   "display_name": "Python 3 (ipykernel)",
   "language": "python",
   "name": "python3"
  },
  "language_info": {
   "codemirror_mode": {
    "name": "ipython",
    "version": 3
   },
   "file_extension": ".py",
   "mimetype": "text/x-python",
   "name": "python",
   "nbconvert_exporter": "python",
   "pygments_lexer": "ipython3",
   "version": "3.10.12"
  }
 },
 "nbformat": 4,
 "nbformat_minor": 5
}
