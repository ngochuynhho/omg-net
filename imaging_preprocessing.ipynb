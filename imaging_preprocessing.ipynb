{
 "cells": [
  {
   "cell_type": "code",
   "execution_count": null,
   "id": "fe4f1350",
   "metadata": {
    "scrolled": true
   },
   "outputs": [],
   "source": [
    "!pip install antspyx\n",
    "!pip install nilearn\n",
    "!pip install nibabel\n",
    "!pip install SimpleITK"
   ]
  },
  {
   "cell_type": "markdown",
   "id": "bdfada67",
   "metadata": {},
   "source": [
    "### Import libraries"
   ]
  },
  {
   "cell_type": "code",
   "execution_count": 1,
   "id": "074bf5f6",
   "metadata": {},
   "outputs": [],
   "source": [
    "import os\n",
    "import ants\n",
    "import time\n",
    "import numpy as np\n",
    "import nibabel as nib\n",
    "import SimpleITK as sitk\n",
    "from nilearn import image, plotting\n",
    "from nilearn.image import resample_to_img, new_img_like\n",
    "import subprocess"
   ]
  },
  {
   "cell_type": "code",
   "execution_count": 2,
   "id": "e19626aa",
   "metadata": {},
   "outputs": [],
   "source": [
    "import matplotlib.pyplot as plt"
   ]
  },
  {
   "cell_type": "markdown",
   "id": "8de3c9c4",
   "metadata": {},
   "source": [
    "### Preprocessing MRI image"
   ]
  },
  {
   "cell_type": "markdown",
   "id": "e2c9c95a",
   "metadata": {},
   "source": [
    "#### 1. Pre-defined functions"
   ]
  },
  {
   "cell_type": "code",
   "execution_count": 3,
   "id": "c5402c8f",
   "metadata": {},
   "outputs": [],
   "source": [
    "def Adativehistogram_equalization(ref, alpha, beta):\n",
    "    histogramEqualization = sitk.AdaptiveHistogramEqualizationImageFilter()\n",
    "    histogramEqualization.SetAlpha(alpha)\n",
    "    histogramEqualization.SetBeta(beta)\n",
    "    equalized_volume = histogramEqualization.Execute(ref)\n",
    "    return equalized_volume\n",
    "\n",
    "def SmoothingRecursiveGaussian(image, sigma):\n",
    "    gaussian = sitk.SmoothingRecursiveGaussianImageFilter()\n",
    "    gaussian.SetSigma(sigma)\n",
    "    blur_image = gaussian.Execute(image)\n",
    "    return blur_image\n",
    "\n",
    "def normalise_zero_one(image):\n",
    "    \"\"\"Image normalisation. Normalises image to fit [0, 1] range.\"\"\"\n",
    "\n",
    "    image = image.astype(np.float32)\n",
    "\n",
    "    minimum = np.min(image)\n",
    "    maximum = np.max(image)\n",
    "\n",
    "    if maximum > minimum:\n",
    "        ret = (image - minimum) / (maximum - minimum)\n",
    "    else:\n",
    "        ret = image * 0.\n",
    "    return ret\n",
    "\n",
    "def skull_strip_fsl(input_path, output_path, frac=\"0.5\"):\n",
    "    bet_command = [\"bet\", input_path, output_path,\"-f\", frac, \"-g\", \"0\"]\n",
    "    subprocess.call(bet_command)\n",
    "\n",
    "def registration_to_mni(img, template):\n",
    "    registration = ants.registration(fixed=template, moving=img, type_of_transform='Affine')\n",
    "    transformed_ants = ants.apply_transforms(fixed=template, moving=img, transformlist=registration['fwdtransforms'])\n",
    "    transformed_img = ants.to_nibabel(transformed_ants)\n",
    "    return transformed_img"
   ]
  },
  {
   "cell_type": "code",
   "execution_count": 4,
   "id": "feafae38",
   "metadata": {},
   "outputs": [],
   "source": [
    "def visualize_nifti(img):\n",
    "    # Load the NIFTI image\n",
    "    img_data = img.get_fdata()\n",
    "\n",
    "    # Get the middle slices for each view\n",
    "    axial_slice = img_data[img_data.shape[0] // 2, :, :]\n",
    "    coronal_slice = img_data[:, img_data.shape[1] // 2, :]\n",
    "    sagittal_slice = img_data[:, :, img_data.shape[2] // 2]\n",
    "\n",
    "    # Create a figure with subplots\n",
    "    fig, axes = plt.subplots(1, 3, figsize=(15, 5))\n",
    "\n",
    "    # Plot axial view\n",
    "    axes[0].imshow(axial_slice, cmap='gray')\n",
    "    axes[0].set_title('Sagittal View')\n",
    "    axes[0].axis('off')\n",
    "\n",
    "    # Plot coronal view\n",
    "    axes[1].imshow(coronal_slice, cmap='gray')\n",
    "    axes[1].set_title('Coronal View')\n",
    "    axes[1].axis('off')\n",
    "\n",
    "    # Plot sagittal view\n",
    "    axes[2].imshow(sagittal_slice, cmap='gray')\n",
    "    axes[2].set_title('Axial View')\n",
    "    axes[2].axis('off')\n",
    "\n",
    "    plt.tight_layout()\n",
    "    plt.show()"
   ]
  },
  {
   "cell_type": "markdown",
   "id": "8122057e",
   "metadata": {},
   "source": [
    "#### 2. Test on an image"
   ]
  },
  {
   "cell_type": "code",
   "execution_count": 5,
   "id": "9feff48e",
   "metadata": {},
   "outputs": [],
   "source": [
    "source_dir = \"/ngochuynh/f/Dataset/ADNI/\"\n",
    "mri_image = nib.load(os.path.join(source_dir,'ADNI_renamed','021_S_2100','021_S_2100_Month_049.4_MRI_2014-10-20.nii'))\n",
    "mni_template = nib.load(os.path.join(source_dir,'atlas','MNI152_T1_1mm.nii'))\n",
    "dest_path = os.path.join(source_dir,'transformed.nii')"
   ]
  },
  {
   "cell_type": "code",
   "execution_count": null,
   "id": "72eaced0",
   "metadata": {},
   "outputs": [],
   "source": [
    "visualize_nifti(mri_image)"
   ]
  },
  {
   "cell_type": "code",
   "execution_count": null,
   "id": "335bd3c9",
   "metadata": {},
   "outputs": [],
   "source": [
    "visualize_nifti(mni_template)"
   ]
  },
  {
   "cell_type": "code",
   "execution_count": null,
   "id": "6cf8ac6d",
   "metadata": {},
   "outputs": [],
   "source": [
    "# Get the image data as a NumPy array\n",
    "img_data = mri_image.get_fdata()\n",
    "# Flip the sagittal view 180 degrees\n",
    "flipped_img_data = np.flip(img_data, axis=0)\n",
    "flipped_img = nib.Nifti1Image(flipped_img_data, mri_image.affine)"
   ]
  },
  {
   "cell_type": "code",
   "execution_count": null,
   "id": "15413487",
   "metadata": {},
   "outputs": [],
   "source": [
    "visualize_nifti(flipped_img)"
   ]
  },
  {
   "cell_type": "code",
   "execution_count": null,
   "id": "327cb3b4",
   "metadata": {},
   "outputs": [],
   "source": [
    "#mri_ants = ants.from_nibabel(mri_image)\n",
    "#mni_ants = ants.from_nibabel(mni_template)"
   ]
  },
  {
   "cell_type": "code",
   "execution_count": null,
   "id": "ed3cf7d8",
   "metadata": {},
   "outputs": [],
   "source": [
    "#mri_ants.get_orientation()"
   ]
  },
  {
   "cell_type": "code",
   "execution_count": null,
   "id": "fd46e924",
   "metadata": {},
   "outputs": [],
   "source": [
    "#reorient_mri_img = mri_ants.reorient_image2(orientation='SAR')"
   ]
  },
  {
   "cell_type": "code",
   "execution_count": null,
   "id": "d4bf6249",
   "metadata": {},
   "outputs": [],
   "source": [
    "#reorient_mri_img.get_orientation()"
   ]
  },
  {
   "cell_type": "code",
   "execution_count": 6,
   "id": "c2c9f489",
   "metadata": {},
   "outputs": [],
   "source": [
    "# Convert MRI image to ANTs format\n",
    "mri_ants = ants.from_nibabel(mri_image)\n",
    "#mri_ants = ants.from_nibabel(flipped_img)\n",
    "mni_ants = ants.from_nibabel(mni_template)\n",
    "\n",
    "# Perform registration to MRI using ANTs\n",
    "transformed_mri_img = registration_to_mni(mri_ants, mni_ants)\n",
    "nib.save(transformed_mri_img, dest_path)"
   ]
  },
  {
   "cell_type": "code",
   "execution_count": 7,
   "id": "56ada8cf",
   "metadata": {},
   "outputs": [
    {
     "ename": "FileNotFoundError",
     "evalue": "[Errno 2] No such file or directory: 'bet'",
     "output_type": "error",
     "traceback": [
      "\u001b[0;31m---------------------------------------------------------------------------\u001b[0m",
      "\u001b[0;31mFileNotFoundError\u001b[0m                         Traceback (most recent call last)",
      "Cell \u001b[0;32mIn[7], line 13\u001b[0m\n\u001b[1;32m     11\u001b[0m \u001b[38;5;66;03m# Skull stripping\u001b[39;00m\n\u001b[1;32m     12\u001b[0m skullstripping_path \u001b[38;5;241m=\u001b[39m \u001b[38;5;124m'\u001b[39m\u001b[38;5;124mtest/stripped.nii\u001b[39m\u001b[38;5;124m'\u001b[39m\n\u001b[0;32m---> 13\u001b[0m \u001b[43mskull_strip_fsl\u001b[49m\u001b[43m(\u001b[49m\u001b[38;5;124;43m'\u001b[39;49m\u001b[38;5;124;43mtest/transformed.nii\u001b[39;49m\u001b[38;5;124;43m'\u001b[39;49m\u001b[43m,\u001b[49m\u001b[43m \u001b[49m\u001b[43mskullstripping_path\u001b[49m\u001b[43m,\u001b[49m\u001b[43m \u001b[49m\u001b[43mfrac\u001b[49m\u001b[38;5;241;43m=\u001b[39;49m\u001b[38;5;124;43m\"\u001b[39;49m\u001b[38;5;124;43m0.5\u001b[39;49m\u001b[38;5;124;43m\"\u001b[39;49m\u001b[43m)\u001b[49m\n\u001b[1;32m     14\u001b[0m stripped_mri_img \u001b[38;5;241m=\u001b[39m nib\u001b[38;5;241m.\u001b[39mload(\u001b[38;5;124mf\u001b[39m\u001b[38;5;124m'\u001b[39m\u001b[38;5;132;01m{\u001b[39;00mskullstripping_path\u001b[38;5;132;01m}\u001b[39;00m\u001b[38;5;124m.gz\u001b[39m\u001b[38;5;124m'\u001b[39m)\n\u001b[1;32m     16\u001b[0m \u001b[38;5;66;03m# Intensity normalization\u001b[39;00m\n",
      "Cell \u001b[0;32mIn[3], line 30\u001b[0m, in \u001b[0;36mskull_strip_fsl\u001b[0;34m(input_path, output_path, frac)\u001b[0m\n\u001b[1;32m     28\u001b[0m \u001b[38;5;28;01mdef\u001b[39;00m \u001b[38;5;21mskull_strip_fsl\u001b[39m(input_path, output_path, frac\u001b[38;5;241m=\u001b[39m\u001b[38;5;124m\"\u001b[39m\u001b[38;5;124m0.5\u001b[39m\u001b[38;5;124m\"\u001b[39m):\n\u001b[1;32m     29\u001b[0m     bet_command \u001b[38;5;241m=\u001b[39m [\u001b[38;5;124m\"\u001b[39m\u001b[38;5;124mbet\u001b[39m\u001b[38;5;124m\"\u001b[39m, input_path, output_path,\u001b[38;5;124m\"\u001b[39m\u001b[38;5;124m-f\u001b[39m\u001b[38;5;124m\"\u001b[39m, frac, \u001b[38;5;124m\"\u001b[39m\u001b[38;5;124m-g\u001b[39m\u001b[38;5;124m\"\u001b[39m, \u001b[38;5;124m\"\u001b[39m\u001b[38;5;124m0\u001b[39m\u001b[38;5;124m\"\u001b[39m]\n\u001b[0;32m---> 30\u001b[0m     \u001b[43msubprocess\u001b[49m\u001b[38;5;241;43m.\u001b[39;49m\u001b[43mcall\u001b[49m\u001b[43m(\u001b[49m\u001b[43mbet_command\u001b[49m\u001b[43m)\u001b[49m\n",
      "File \u001b[0;32m/usr/lib/python3.10/subprocess.py:345\u001b[0m, in \u001b[0;36mcall\u001b[0;34m(timeout, *popenargs, **kwargs)\u001b[0m\n\u001b[1;32m    337\u001b[0m \u001b[38;5;28;01mdef\u001b[39;00m \u001b[38;5;21mcall\u001b[39m(\u001b[38;5;241m*\u001b[39mpopenargs, timeout\u001b[38;5;241m=\u001b[39m\u001b[38;5;28;01mNone\u001b[39;00m, \u001b[38;5;241m*\u001b[39m\u001b[38;5;241m*\u001b[39mkwargs):\n\u001b[1;32m    338\u001b[0m \u001b[38;5;250m    \u001b[39m\u001b[38;5;124;03m\"\"\"Run command with arguments.  Wait for command to complete or\u001b[39;00m\n\u001b[1;32m    339\u001b[0m \u001b[38;5;124;03m    timeout, then return the returncode attribute.\u001b[39;00m\n\u001b[1;32m    340\u001b[0m \n\u001b[0;32m   (...)\u001b[0m\n\u001b[1;32m    343\u001b[0m \u001b[38;5;124;03m    retcode = call([\"ls\", \"-l\"])\u001b[39;00m\n\u001b[1;32m    344\u001b[0m \u001b[38;5;124;03m    \"\"\"\u001b[39;00m\n\u001b[0;32m--> 345\u001b[0m     \u001b[38;5;28;01mwith\u001b[39;00m \u001b[43mPopen\u001b[49m\u001b[43m(\u001b[49m\u001b[38;5;241;43m*\u001b[39;49m\u001b[43mpopenargs\u001b[49m\u001b[43m,\u001b[49m\u001b[43m \u001b[49m\u001b[38;5;241;43m*\u001b[39;49m\u001b[38;5;241;43m*\u001b[39;49m\u001b[43mkwargs\u001b[49m\u001b[43m)\u001b[49m \u001b[38;5;28;01mas\u001b[39;00m p:\n\u001b[1;32m    346\u001b[0m         \u001b[38;5;28;01mtry\u001b[39;00m:\n\u001b[1;32m    347\u001b[0m             \u001b[38;5;28;01mreturn\u001b[39;00m p\u001b[38;5;241m.\u001b[39mwait(timeout\u001b[38;5;241m=\u001b[39mtimeout)\n",
      "File \u001b[0;32m/usr/lib/python3.10/subprocess.py:971\u001b[0m, in \u001b[0;36mPopen.__init__\u001b[0;34m(self, args, bufsize, executable, stdin, stdout, stderr, preexec_fn, close_fds, shell, cwd, env, universal_newlines, startupinfo, creationflags, restore_signals, start_new_session, pass_fds, user, group, extra_groups, encoding, errors, text, umask, pipesize)\u001b[0m\n\u001b[1;32m    967\u001b[0m         \u001b[38;5;28;01mif\u001b[39;00m \u001b[38;5;28mself\u001b[39m\u001b[38;5;241m.\u001b[39mtext_mode:\n\u001b[1;32m    968\u001b[0m             \u001b[38;5;28mself\u001b[39m\u001b[38;5;241m.\u001b[39mstderr \u001b[38;5;241m=\u001b[39m io\u001b[38;5;241m.\u001b[39mTextIOWrapper(\u001b[38;5;28mself\u001b[39m\u001b[38;5;241m.\u001b[39mstderr,\n\u001b[1;32m    969\u001b[0m                     encoding\u001b[38;5;241m=\u001b[39mencoding, errors\u001b[38;5;241m=\u001b[39merrors)\n\u001b[0;32m--> 971\u001b[0m     \u001b[38;5;28;43mself\u001b[39;49m\u001b[38;5;241;43m.\u001b[39;49m\u001b[43m_execute_child\u001b[49m\u001b[43m(\u001b[49m\u001b[43margs\u001b[49m\u001b[43m,\u001b[49m\u001b[43m \u001b[49m\u001b[43mexecutable\u001b[49m\u001b[43m,\u001b[49m\u001b[43m \u001b[49m\u001b[43mpreexec_fn\u001b[49m\u001b[43m,\u001b[49m\u001b[43m \u001b[49m\u001b[43mclose_fds\u001b[49m\u001b[43m,\u001b[49m\n\u001b[1;32m    972\u001b[0m \u001b[43m                        \u001b[49m\u001b[43mpass_fds\u001b[49m\u001b[43m,\u001b[49m\u001b[43m \u001b[49m\u001b[43mcwd\u001b[49m\u001b[43m,\u001b[49m\u001b[43m \u001b[49m\u001b[43menv\u001b[49m\u001b[43m,\u001b[49m\n\u001b[1;32m    973\u001b[0m \u001b[43m                        \u001b[49m\u001b[43mstartupinfo\u001b[49m\u001b[43m,\u001b[49m\u001b[43m \u001b[49m\u001b[43mcreationflags\u001b[49m\u001b[43m,\u001b[49m\u001b[43m \u001b[49m\u001b[43mshell\u001b[49m\u001b[43m,\u001b[49m\n\u001b[1;32m    974\u001b[0m \u001b[43m                        \u001b[49m\u001b[43mp2cread\u001b[49m\u001b[43m,\u001b[49m\u001b[43m \u001b[49m\u001b[43mp2cwrite\u001b[49m\u001b[43m,\u001b[49m\n\u001b[1;32m    975\u001b[0m \u001b[43m                        \u001b[49m\u001b[43mc2pread\u001b[49m\u001b[43m,\u001b[49m\u001b[43m \u001b[49m\u001b[43mc2pwrite\u001b[49m\u001b[43m,\u001b[49m\n\u001b[1;32m    976\u001b[0m \u001b[43m                        \u001b[49m\u001b[43merrread\u001b[49m\u001b[43m,\u001b[49m\u001b[43m \u001b[49m\u001b[43merrwrite\u001b[49m\u001b[43m,\u001b[49m\n\u001b[1;32m    977\u001b[0m \u001b[43m                        \u001b[49m\u001b[43mrestore_signals\u001b[49m\u001b[43m,\u001b[49m\n\u001b[1;32m    978\u001b[0m \u001b[43m                        \u001b[49m\u001b[43mgid\u001b[49m\u001b[43m,\u001b[49m\u001b[43m \u001b[49m\u001b[43mgids\u001b[49m\u001b[43m,\u001b[49m\u001b[43m \u001b[49m\u001b[43muid\u001b[49m\u001b[43m,\u001b[49m\u001b[43m \u001b[49m\u001b[43mumask\u001b[49m\u001b[43m,\u001b[49m\n\u001b[1;32m    979\u001b[0m \u001b[43m                        \u001b[49m\u001b[43mstart_new_session\u001b[49m\u001b[43m)\u001b[49m\n\u001b[1;32m    980\u001b[0m \u001b[38;5;28;01mexcept\u001b[39;00m:\n\u001b[1;32m    981\u001b[0m     \u001b[38;5;66;03m# Cleanup if the child failed starting.\u001b[39;00m\n\u001b[1;32m    982\u001b[0m     \u001b[38;5;28;01mfor\u001b[39;00m f \u001b[38;5;129;01min\u001b[39;00m \u001b[38;5;28mfilter\u001b[39m(\u001b[38;5;28;01mNone\u001b[39;00m, (\u001b[38;5;28mself\u001b[39m\u001b[38;5;241m.\u001b[39mstdin, \u001b[38;5;28mself\u001b[39m\u001b[38;5;241m.\u001b[39mstdout, \u001b[38;5;28mself\u001b[39m\u001b[38;5;241m.\u001b[39mstderr)):\n",
      "File \u001b[0;32m/usr/lib/python3.10/subprocess.py:1863\u001b[0m, in \u001b[0;36mPopen._execute_child\u001b[0;34m(self, args, executable, preexec_fn, close_fds, pass_fds, cwd, env, startupinfo, creationflags, shell, p2cread, p2cwrite, c2pread, c2pwrite, errread, errwrite, restore_signals, gid, gids, uid, umask, start_new_session)\u001b[0m\n\u001b[1;32m   1861\u001b[0m     \u001b[38;5;28;01mif\u001b[39;00m errno_num \u001b[38;5;241m!=\u001b[39m \u001b[38;5;241m0\u001b[39m:\n\u001b[1;32m   1862\u001b[0m         err_msg \u001b[38;5;241m=\u001b[39m os\u001b[38;5;241m.\u001b[39mstrerror(errno_num)\n\u001b[0;32m-> 1863\u001b[0m     \u001b[38;5;28;01mraise\u001b[39;00m child_exception_type(errno_num, err_msg, err_filename)\n\u001b[1;32m   1864\u001b[0m \u001b[38;5;28;01mraise\u001b[39;00m child_exception_type(err_msg)\n",
      "\u001b[0;31mFileNotFoundError\u001b[0m: [Errno 2] No such file or directory: 'bet'"
     ]
    }
   ],
   "source": [
    "starttime = time.time()\n",
    "# Convert MRI image to ANTs format\n",
    "mri_ants = ants.from_nibabel(mri_image)\n",
    "#mri_ants = ants.from_nibabel(flipped_img)\n",
    "mni_ants = ants.from_nibabel(mni_template)\n",
    "\n",
    "# Perform registration to MRI using ANTs\n",
    "transformed_mri_img = registration_to_mni(mri_ants, mni_ants)\n",
    "nib.save(transformed_mri_img, 'test/transformed.nii')\n",
    "\n",
    "# Skull stripping\n",
    "skullstripping_path = 'test/stripped.nii'\n",
    "skull_strip_fsl('test/transformed.nii', skullstripping_path, frac=\"0.5\")\n",
    "stripped_mri_img = nib.load(f'{skullstripping_path}.gz')\n",
    "\n",
    "# Intensity normalization\n",
    "normalized_mri_img = normalise_zero_one(stripped_mri_img.get_fdata())\n",
    "normalized_mri_vol = sitk.GetImageFromArray(normalized_mri_img)\n",
    "nib.save(nib.Nifti1Image(normalized_mri_img, transformed_mri_img.affine), 'test/normalized.nii')\n",
    "\n",
    "# Histogram equalization\n",
    "alpha = 0.8\n",
    "beta  = 0.8\n",
    "equalized_mri_vol = Adativehistogram_equalization(normalized_mri_vol, alpha, beta)\n",
    "nib.save(nib.Nifti1Image(sitk.GetArrayFromImage(equalized_mri_vol), transformed_mri_img.affine), 'test/equalized.nii')\n",
    "\n",
    "# Gaussian filter smoothing\n",
    "fwhm = 2\n",
    "voxelsize = 2\n",
    "sigma = fwhm / (np.sqrt(8 * np.log(2)) * voxelsize)\n",
    "smoothed_mri_vol = SmoothingRecursiveGaussian(equalized_mri_vol, sigma=sigma)\n",
    "\n",
    "# Transfer the orientation information from the input image to the processed output image\n",
    "smoothed_mri_nib = nib.Nifti1Image(sitk.GetArrayFromImage(smoothed_mri_vol), transformed_mri_img.affine)\n",
    "\n",
    "# Write image\n",
    "nib.save(smoothed_mri_nib, dest_path)\n",
    "print(f'Preprocessing time: {time.time()-starttime:.3f} sec')"
   ]
  },
  {
   "cell_type": "code",
   "execution_count": null,
   "id": "eec6d848",
   "metadata": {},
   "outputs": [],
   "source": []
  },
  {
   "cell_type": "code",
   "execution_count": null,
   "id": "4332ff78",
   "metadata": {},
   "outputs": [],
   "source": [
    "visualize_nifti(transformed_mri_img)"
   ]
  },
  {
   "cell_type": "code",
   "execution_count": null,
   "id": "d8cb9f44",
   "metadata": {},
   "outputs": [],
   "source": [
    "dri_fa = nib.load('test/109_S_4499_Month_000.0_DTI_FA_2012-03-08.nii')\n",
    "dri_ma = nib.load('test/109_S_4499_Month_000.0_DTI_MD_2012-03-08.nii')\n",
    "pet_fdg = nib.load('test/109_S_4499_Month_000.4_PET_FDG_2012-03-19_raw.nii')\n",
    "pet_AV45 = nib.load('test/109_S_4499_Month_000.6_PET_AV45_2012-03-26.nii')"
   ]
  },
  {
   "cell_type": "code",
   "execution_count": null,
   "id": "29766d1f",
   "metadata": {},
   "outputs": [],
   "source": [
    "dri_fa_ants = ants.from_nibabel(dri_fa)\n",
    "dri_ma_ants = ants.from_nibabel(dri_ma)\n",
    "pet_fdg_ants = ants.from_nibabel(pet_fdg)\n",
    "pet_AV45_ants = ants.from_nibabel(pet_AV45)"
   ]
  },
  {
   "cell_type": "code",
   "execution_count": null,
   "id": "5abd5c90",
   "metadata": {},
   "outputs": [],
   "source": [
    "transformed_mri_ants = ants.from_nibabel(transformed_mri_img)"
   ]
  },
  {
   "cell_type": "code",
   "execution_count": null,
   "id": "b3ad1dee",
   "metadata": {},
   "outputs": [],
   "source": [
    "transformed_dri_fa_img = registration_to_mni(dri_fa_ants, transformed_mri_ants)\n",
    "nib.save(transformed_dri_fa_img, 'test/transformed_109_S_4499_Month_000.0_DTI_FA_2012-03-08.nii')\n",
    "transformed_dri_ma_img = registration_to_mni(dri_ma_ants, transformed_mri_ants)\n",
    "nib.save(transformed_dri_ma_img, 'test/transformed_109_S_4499_Month_000.0_DTI_MA_2012-03-08.nii')\n",
    "transformed_pet_fdg_img = registration_to_mni(pet_fdg_ants, transformed_mri_ants)\n",
    "nib.save(transformed_pet_fdg_img, 'test/transformed_109_S_4499_Month_000.0_PET_FDG_2012-03-08.nii')\n",
    "transformed_pet_AV45_img = registration_to_mni(pet_AV45_ants, transformed_mri_ants)\n",
    "nib.save(transformed_pet_AV45_img, 'test/transformed_109_S_4499_Month_000.0_PET_AV45_2012-03-08.nii')"
   ]
  },
  {
   "cell_type": "markdown",
   "id": "1c3f7473",
   "metadata": {},
   "source": [
    "#### 3. Preprocess all images"
   ]
  },
  {
   "cell_type": "code",
   "execution_count": null,
   "id": "3bba8492",
   "metadata": {},
   "outputs": [],
   "source": [
    "import os\n",
    "import glob"
   ]
  },
  {
   "cell_type": "code",
   "execution_count": null,
   "id": "5e498b26",
   "metadata": {},
   "outputs": [],
   "source": [
    "def smallest_distance(numbers, reference):\n",
    "    min_distance = float('inf')\n",
    "    \n",
    "    for num in numbers:\n",
    "        if num is not None:\n",
    "            distance = abs(num - reference)\n",
    "            min_distance = min(min_distance, distance)\n",
    "    \n",
    "    return min_distance"
   ]
  },
  {
   "cell_type": "code",
   "execution_count": null,
   "id": "6f35db8b",
   "metadata": {},
   "outputs": [],
   "source": [
    "def structured_image_dic(scrdir, files):\n",
    "    rounded_months_dict = {}\n",
    "    for file_name in files:\n",
    "        parts = file_name.split(\"_\")\n",
    "        if len(parts) == 7 or len(parts) == 8:\n",
    "            month = parts[4]\n",
    "            image_type = parts[5]\n",
    "            if image_type=='PET' or image_type=='DTI':\n",
    "                image_type = parts[5] + '_' + parts[6]\n",
    "            month = float(month)\n",
    "            rounded_month = round(month / 6) * 6\n",
    "            if rounded_month in rounded_months_dict:\n",
    "                current_months = rounded_months_dict[rounded_month]['month']\n",
    "                current_diff = smallest_distance(current_months, rounded_month)\n",
    "                new_diff = abs(month - rounded_month)\n",
    "                \n",
    "                if image_type == \"MRI\":\n",
    "                    if (new_diff < current_diff) or (rounded_months_dict[rounded_month]['image_paths'][0] is None):\n",
    "                        rounded_months_dict[rounded_month]['month'][0] = month\n",
    "                        rounded_months_dict[rounded_month]['image_paths'][0] = os.path.join(scrdir, file_name)\n",
    "            else:\n",
    "                rounded_months_dict[rounded_month] = {'month': [None, None, None, None, None], 'image_paths': [None, None, None, None, None]}\n",
    "                if image_type == \"MRI\":\n",
    "                    rounded_months_dict[rounded_month]['month'][0] = month\n",
    "                    rounded_months_dict[rounded_month]['image_paths'][0] = os.path.join(scrdir, file_name)\n",
    "\n",
    "            if image_type == \"PET_FDG\":\n",
    "                rounded_months_dict[rounded_month]['month'][1] = month\n",
    "                rounded_months_dict[rounded_month]['image_paths'][1] = os.path.join(scrdir, file_name)\n",
    "            elif image_type == \"PET_AV45\":\n",
    "                rounded_months_dict[rounded_month]['month'][2] = month\n",
    "                rounded_months_dict[rounded_month]['image_paths'][2] = os.path.join(scrdir, file_name)\n",
    "            elif image_type == \"DTI_FA\":\n",
    "                rounded_months_dict[rounded_month]['month'][3] = month\n",
    "                rounded_months_dict[rounded_month]['image_paths'][3] = os.path.join(scrdir, file_name)\n",
    "            elif image_type == \"DTI_MD\":\n",
    "                rounded_months_dict[rounded_month]['month'][4] = month\n",
    "                rounded_months_dict[rounded_month]['image_paths'][4] = os.path.join(scrdir, file_name)\n",
    "            \n",
    "    return rounded_months_dict"
   ]
  },
  {
   "cell_type": "code",
   "execution_count": null,
   "id": "2ff0a181",
   "metadata": {},
   "outputs": [],
   "source": [
    "image_dir = '/ngochuynh/f/Dataset/ADNI/ADNI_renamed'\n",
    "list_ids  = glob.glob(image_dir+'/*')"
   ]
  },
  {
   "cell_type": "code",
   "execution_count": null,
   "id": "d2f8ed7e",
   "metadata": {},
   "outputs": [],
   "source": [
    "mni_template = nib.load('/ngochuynh/f/Dataset/ADNI/atlas/MNI152_T1_1mm.nii')\n",
    "mni_ants = ants.from_nibabel(mni_template)"
   ]
  },
  {
   "cell_type": "code",
   "execution_count": null,
   "id": "71bb80e2",
   "metadata": {},
   "outputs": [],
   "source": [
    "test_files = list_ids"
   ]
  },
  {
   "cell_type": "code",
   "execution_count": null,
   "id": "3350bca6",
   "metadata": {},
   "outputs": [],
   "source": [
    "extra_list = []"
   ]
  },
  {
   "cell_type": "code",
   "execution_count": null,
   "id": "8d7ca83b",
   "metadata": {
    "scrolled": true
   },
   "outputs": [],
   "source": [
    "for file_path in test_files:\n",
    "    ptid  = os.path.basename(file_path)\n",
    "    files =glob.glob(os.path.join(file_path, \"*.nii\"))\n",
    "    filter_files = [f for f in files if \"DTI_FA\" in f or \"DTI_MD\" in f]\n",
    "    preprocessed_dir = os.path.join(file_path, 'preprocessed')\n",
    "    os.makedirs(preprocessed_dir, exist_ok=True)\n",
    "    for f in filter_files:\n",
    "        starttime = time.time()\n",
    "        bn = os.path.basename(f)\n",
    "        transformed_path = os.path.join(preprocessed_dir, 'DTI', 'transformed_'+bn)\n",
    "        if not os.path.exists(transformed_path):\n",
    "            image = nib.load(f)\n",
    "            if (len(image.shape)==3 or image.shape[3]==1):\n",
    "                image_ants = ants.from_nibabel(image)\n",
    "                transformed_img = registration_to_mni(image_ants, mni_ants)\n",
    "                transformed_path = os.path.join(preprocessed_dir, 'DTI', 'transformed_'+bn)\n",
    "                nib.save(transformed_img, transformed_path)\n",
    "                print(f'Processed: {ptid} ({image_ants.get_orientation()}) - {f} - {time.time()-starttime:.3f} sec')\n",
    "print(\"Finished !!\")"
   ]
  },
  {
   "cell_type": "code",
   "execution_count": null,
   "id": "32f1d07a",
   "metadata": {
    "scrolled": true
   },
   "outputs": [],
   "source": [
    "for file_path in test_files:\n",
    "    ptid  = os.path.basename(file_path)\n",
    "    files = os.listdir(file_path)\n",
    "    structured_files = structured_image_dic(file_path, files)\n",
    "    \n",
    "    structured_files = \n",
    "    \n",
    "    preprocessed_dir = os.path.join(file_path, 'preprocessed')\n",
    "    os.makedirs(preprocessed_dir, exist_ok=True)\n",
    "    for m, tp in structured_files.items():\n",
    "        for i, img in enumerate(tp['image_paths']):\n",
    "            starttime = time.time()\n",
    "            if img is not None:\n",
    "                bn = os.path.basename(img)\n",
    "                if i==0:\n",
    "                    # Convert MRI image to ANTs format\n",
    "                    mri_image = nib.load(img)\n",
    "                    mri_ants = ants.from_nibabel(mri_image)\n",
    "                    if mri_ants.get_orientation() in ['RAI', 'RPI']:\n",
    "                        # Get the image data as a NumPy array\n",
    "                        img_data = mri_image.get_fdata()\n",
    "                        # Flip the sagittal view 180 degrees\n",
    "                        flipped_img_data = np.flip(img_data, axis=0)\n",
    "                        flipped_img = nib.Nifti1Image(flipped_img_data, mri_image.affine)\n",
    "                        mri_ants = ants.from_nibabel(flipped_img)\n",
    "                    # Perform registration to MRI using ANTs\n",
    "                    transformed_path = os.path.join(preprocessed_dir, 'transformed_'+bn)\n",
    "                    if not os.path.exists(transformed_path):\n",
    "                        transformed_mri_img = registration_to_mni(mri_ants, mni_ants)\n",
    "                        nib.save(transformed_mri_img, transformed_path)\n",
    "                        # Skull stripping\n",
    "                        stripped_path = os.path.join(preprocessed_dir, 'stripped_'+bn)\n",
    "                        skull_strip_fsl(transformed_path, stripped_path, frac=\"0.5\")\n",
    "                        stripped_mri_img = nib.load(f'{stripped_path}.gz')\n",
    "                        # Intensity normalization\n",
    "                        normalized_mri_img = normalise_zero_one(stripped_mri_img.get_fdata())\n",
    "                        normalized_mri_vol = sitk.GetImageFromArray(normalized_mri_img)\n",
    "                        normalized_path   = os.path.join(preprocessed_dir, 'normalized_'+bn)\n",
    "                        nib.save(nib.Nifti1Image(normalized_mri_img, transformed_mri_img.affine), normalized_path)\n",
    "                        # Histogram equalization\n",
    "                        alpha = 0.8\n",
    "                        beta  = 0.8\n",
    "                        equalized_mri_vol = Adativehistogram_equalization(normalized_mri_vol, alpha, beta)\n",
    "                        equalized_path    = os.path.join(preprocessed_dir, 'equalized_'+bn)\n",
    "                        nib.save(nib.Nifti1Image(sitk.GetArrayFromImage(equalized_mri_vol), transformed_mri_img.affine), equalized_path)\n",
    "                        # Gaussian filter smoothing\n",
    "                        fwhm = 2\n",
    "                        voxelsize = 1\n",
    "                        sigma = fwhm / (np.sqrt(8 * np.log(2)) * voxelsize)\n",
    "                        smoothed_mri_vol = SmoothingRecursiveGaussian(equalized_mri_vol, sigma=sigma)\n",
    "                        smooth_path      = os.path.join(preprocessed_dir, 'smooth_'+bn)\n",
    "                        nib.save(nib.Nifti1Image(sitk.GetArrayFromImage(smoothed_mri_vol), transformed_mri_img.affine), smooth_path)\n",
    "\n",
    "                        extra_list.append({'ptid':ptid, 'month':m, 'img_type':i, 'orient':mri_ants.get_orientation()})\n",
    "                        print(f'Processed: {ptid} ({mri_ants.get_orientation()}) - month {m} - image {i} - {time.time()-starttime:.3f} sec')\n",
    "                else:\n",
    "                    image = nib.load(img)\n",
    "                    if (len(image.shape)==3 or image.shape[3]==1):\n",
    "                        if i==3 or i==4:\n",
    "                            image_ants = ants.from_nibabel(image)\n",
    "                            transformed_img = registration_to_mni(image_ants, mni_ants)\n",
    "                            nib.save(transformed_img, transformed_path)\n",
    "\n",
    "                            extra_list.append({'ptid':ptid, 'month':m, 'img_type':i, 'orient':image_ants.get_orientation()})\n",
    "                            print(f'Processed: {ptid} ({image_ants.get_orientation()}) - month {m} - image {i} - {time.time()-starttime:.3f} sec')\n",
    "\n",
    "                #print(f'Processed: {ptid} - month {m} - image {i} - {time.time()-starttime:.3f} sec')\n",
    "print(\"Finished !!\")"
   ]
  },
  {
   "cell_type": "code",
   "execution_count": null,
   "id": "0ea71444",
   "metadata": {},
   "outputs": [],
   "source": [
    "image = nib.load(\"/ngochuynh/f/Dataset/ADNI/ADNI_renamed/003_S_4288/003_S_4288_Month_025.9_DTI_MD_2013-12-05.nii\")"
   ]
  },
  {
   "cell_type": "code",
   "execution_count": null,
   "id": "4ef15bef",
   "metadata": {},
   "outputs": [],
   "source": []
  },
  {
   "cell_type": "code",
   "execution_count": null,
   "id": "3b7a2ac6",
   "metadata": {},
   "outputs": [],
   "source": [
    "mni_template.shape"
   ]
  },
  {
   "cell_type": "code",
   "execution_count": null,
   "id": "6835a34c",
   "metadata": {},
   "outputs": [],
   "source": [
    "import json"
   ]
  },
  {
   "cell_type": "code",
   "execution_count": null,
   "id": "9daa6aaf",
   "metadata": {},
   "outputs": [],
   "source": [
    "with open('extra_list_v2', 'w') as fp:\n",
    "    fp.write(json.dumps(extra_list, indent=4))"
   ]
  },
  {
   "cell_type": "code",
   "execution_count": null,
   "id": "6648c3e3",
   "metadata": {},
   "outputs": [],
   "source": [
    "with open('extra_list_v2', 'r') as of:\n",
    "    json_object = json.load(of)"
   ]
  },
  {
   "cell_type": "code",
   "execution_count": null,
   "id": "5b3f94d7",
   "metadata": {},
   "outputs": [],
   "source": []
  }
 ],
 "metadata": {
  "kernelspec": {
   "display_name": "Python 3 (ipykernel)",
   "language": "python",
   "name": "python3"
  },
  "language_info": {
   "codemirror_mode": {
    "name": "ipython",
    "version": 3
   },
   "file_extension": ".py",
   "mimetype": "text/x-python",
   "name": "python",
   "nbconvert_exporter": "python",
   "pygments_lexer": "ipython3",
   "version": "3.10.12"
  }
 },
 "nbformat": 4,
 "nbformat_minor": 5
}
