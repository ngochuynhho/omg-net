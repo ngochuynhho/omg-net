{
 "cells": [
  {
   "cell_type": "code",
   "execution_count": null,
   "id": "461f0747",
   "metadata": {},
   "outputs": [],
   "source": [
    "%load_ext autoreload\n",
    "%autoreload 2\n",
    "%matplotlib inline"
   ]
  },
  {
   "cell_type": "code",
   "execution_count": null,
   "id": "4710ccbf",
   "metadata": {
    "scrolled": true
   },
   "outputs": [],
   "source": [
    "import os\n",
    "os.environ['TF_CPP_MIN_LOG_LEVEL'] = '2'\n",
    "import numpy as np\n",
    "import pandas as pd\n",
    "import tensorflow as tf\n",
    "\n",
    "import dataloader as DL\n",
    "import layers as CLayers\n",
    "import train_utils as TU\n",
    "\n",
    "from sklearn.model_selection import train_test_split"
   ]
  },
  {
   "cell_type": "code",
   "execution_count": null,
   "id": "cf8c8a4b",
   "metadata": {},
   "outputs": [],
   "source": [
    "gpus = tf.config.experimental.list_physical_devices('GPU')\n",
    "if gpus:\n",
    "    try:\n",
    "        # Currently, memory growth needs to be the same across GPUs\n",
    "        for gpu in gpus:\n",
    "            tf.config.experimental.set_memory_growth(gpu, True)\n",
    "        logical_gpus = tf.config.experimental.list_logical_devices('GPU')\n",
    "        print(len(gpus), \"Physical GPUs,\", len(logical_gpus), \"Logical GPUs\")\n",
    "    except RuntimeError as e:\n",
    "        # Memory growth must be set before GPUs have been initialized\n",
    "        print(e)"
   ]
  },
  {
   "cell_type": "markdown",
   "id": "b3ca326f",
   "metadata": {},
   "source": [
    "## Load data"
   ]
  },
  {
   "cell_type": "code",
   "execution_count": null,
   "id": "81f523f6",
   "metadata": {},
   "outputs": [],
   "source": [
    "df = pd.read_csv('./data/ADNI_saliency.csv', low_memory=False)\n",
    "date = '20240118_2300'\n",
    "input_name = 'AbsDiff'\n",
    "timepoint = '4Y'\n",
    "df = df[df[f'CONV_STATE_{timepoint}'] != -1]\n",
    "unique_rids = df['RID'].unique()"
   ]
  },
  {
   "cell_type": "code",
   "execution_count": null,
   "id": "06eafac7",
   "metadata": {},
   "outputs": [],
   "source": [
    "train_rids, valid_rids = train_test_split(unique_rids, test_size=0.2, random_state=2024)"
   ]
  },
  {
   "cell_type": "code",
   "execution_count": null,
   "id": "80526fe3",
   "metadata": {},
   "outputs": [],
   "source": [
    "with open(f'./data/train_rids_{timepoint}.txt', 'w') as file:\n",
    "    for rid in train_rids:\n",
    "        file.write(f\"{rid}\\n\")\n",
    "with open(f'./data/val_rids_{timepoint}.txt', 'w') as file:\n",
    "    for rid in valid_rids:\n",
    "        file.write(f\"{rid}\\n\")"
   ]
  },
  {
   "cell_type": "code",
   "execution_count": null,
   "id": "f9bfc833",
   "metadata": {},
   "outputs": [],
   "source": [
    "with open(f'./data/train_rids_{timepoint}.txt', 'r') as file:\n",
    "    train_rids = [line.strip() for line in file]\n",
    "train_rids = [int(float(rid)) for rid in train_rids]\n",
    "# Load validation RIDs from the text file\n",
    "with open(f'./data/val_rids_{timepoint}.txt', 'r') as file:\n",
    "    valid_rids = [line.strip() for line in file]\n",
    "valid_rids = [int(float(rid)) for rid in valid_rids]"
   ]
  },
  {
   "cell_type": "code",
   "execution_count": null,
   "id": "a122c14f",
   "metadata": {},
   "outputs": [],
   "source": [
    "data_file = './data/ADNI_saliency.csv'\n",
    "batch_size  = 30\n",
    "num_classes = 3\n",
    "timesteps   = int(timepoint[0])*2+1\n",
    "image_shape = (84,48,42)\n",
    "use_pe = False\n",
    "train_ds = DL.InputFunction(filepath    = data_file,\n",
    "                            list_rids   = train_rids,\n",
    "                            labeltime   = timepoint,\n",
    "                            num_classes = num_classes,\n",
    "                            image_shape = image_shape,\n",
    "                            use_pe      = use_pe,\n",
    "                            timesteps   = timesteps, \n",
    "                            batch_size  = batch_size,\n",
    "                            drop_last=True,\n",
    "                            shuffle=True)\n",
    "valid_ds = DL.InputFunction(filepath    = data_file,\n",
    "                            list_rids   = valid_rids,\n",
    "                            labeltime   = timepoint,\n",
    "                            num_classes = num_classes,\n",
    "                            image_shape = image_shape,\n",
    "                            use_pe      = use_pe,\n",
    "                            timesteps   = timesteps,\n",
    "                            batch_size  = batch_size,\n",
    "                            shuffle=True)"
   ]
  },
  {
   "cell_type": "code",
   "execution_count": null,
   "id": "0ad8dc09",
   "metadata": {},
   "outputs": [],
   "source": [
    "train_steps = train_ds.steps_per_epoch()\n",
    "if (not train_ds.drop_last) and (train_ds.steps_per_epoch()*batch_size<train_ds.size()):\n",
    "    train_steps += 1"
   ]
  },
  {
   "cell_type": "code",
   "execution_count": null,
   "id": "b15a0ce2",
   "metadata": {},
   "outputs": [],
   "source": [
    "# max_time = 0\n",
    "# for i, (feat, label) in enumerate(valid_ds()):\n",
    "#     temp_time = feat['deltas'].shape[1]\n",
    "#     if temp_time > max_time:\n",
    "#         max_time = temp_time\n",
    "# print(max_time)"
   ]
  },
  {
   "cell_type": "code",
   "execution_count": null,
   "id": "986e7840",
   "metadata": {},
   "outputs": [],
   "source": [
    "# for i, (feat, label) in enumerate(train_ds()):\n",
    "#     if i==1:\n",
    "#         break"
   ]
  },
  {
   "cell_type": "code",
   "execution_count": null,
   "id": "c17dc57c",
   "metadata": {},
   "outputs": [],
   "source": [
    "# feat['AbsDiff'].numpy().max()"
   ]
  },
  {
   "cell_type": "markdown",
   "id": "d6e1422c",
   "metadata": {},
   "source": [
    "## Create model"
   ]
  },
  {
   "cell_type": "markdown",
   "id": "af18ef5c",
   "metadata": {},
   "source": [
    "#### Define unimodel"
   ]
  },
  {
   "cell_type": "markdown",
   "id": "96e910be",
   "metadata": {},
   "source": [
    "##### #1"
   ]
  },
  {
   "cell_type": "code",
   "execution_count": null,
   "id": "38fe7e85",
   "metadata": {},
   "outputs": [],
   "source": [
    "# model_config = dict(\n",
    "#     input_name=input_name,\n",
    "#     num_classes=num_classes,\n",
    "#     timesteps=timesteps,\n",
    "#     scn_channels=[16, 32, 64],\n",
    "#     aspp_channels=timesteps,\n",
    "#     tcn_channels=[64, 32],\n",
    "#     fc_units=[256, 128],\n",
    "#     dilation_rates=[6,12,18],\n",
    "#     kernel_size=3,\n",
    "#     pool_size=2,\n",
    "#     dropout=0.35,\n",
    "# )"
   ]
  },
  {
   "cell_type": "code",
   "execution_count": null,
   "id": "2b9144fc",
   "metadata": {},
   "outputs": [],
   "source": [
    "# uni_model = CLayers.UnimodelS1(**model_config)"
   ]
  },
  {
   "cell_type": "markdown",
   "id": "75a6a897",
   "metadata": {},
   "source": [
    "##### #2"
   ]
  },
  {
   "cell_type": "code",
   "execution_count": null,
   "id": "e4b7d3db",
   "metadata": {},
   "outputs": [],
   "source": [
    "model_config = dict(\n",
    "    input_name=input_name,\n",
    "    num_classes=num_classes,\n",
    "    num_filters=[8,16,16,32,32],\n",
    "    fc_units=[64, 32],\n",
    "    kernel_size=3,\n",
    "    pool_size=2,\n",
    "    dropout=0.4,\n",
    ")"
   ]
  },
  {
   "cell_type": "code",
   "execution_count": null,
   "id": "3bb4db14",
   "metadata": {},
   "outputs": [],
   "source": [
    "uni_model = CLayers.UnimodelS1_CNN(**model_config)"
   ]
  },
  {
   "cell_type": "markdown",
   "id": "66d48766",
   "metadata": {},
   "source": [
    "## Create trainer"
   ]
  },
  {
   "cell_type": "code",
   "execution_count": null,
   "id": "7de78134",
   "metadata": {},
   "outputs": [],
   "source": [
    "learning_rate = 1e-3\n",
    "num_epochs    = 50\n",
    "optimizer     = tf.keras.optimizers.Adam(learning_rate=learning_rate, weight_decay=1e-5)"
   ]
  },
  {
   "cell_type": "code",
   "execution_count": null,
   "id": "1e069dcc",
   "metadata": {},
   "outputs": [],
   "source": [
    "trainer = TU.TrainAndEvaluateS1(\n",
    "    model=uni_model,\n",
    "    model_dir=f\"./checkpoints/unimodel_{input_name}_{date}_{timepoint}\",\n",
    "    train_dataset=train_ds(),\n",
    "    eval_dataset=valid_ds(),\n",
    "    num_epochs=num_epochs,\n",
    "    train_steps=train_steps,\n",
    "    optimizer=optimizer\n",
    ")"
   ]
  },
  {
   "cell_type": "code",
   "execution_count": null,
   "id": "701dcdcb",
   "metadata": {
    "scrolled": true
   },
   "outputs": [],
   "source": [
    "trainer.train_and_evaluate()"
   ]
  },
  {
   "cell_type": "code",
   "execution_count": null,
   "id": "ba7cffb3",
   "metadata": {},
   "outputs": [],
   "source": [
    "trainer.save_model('save_model')"
   ]
  },
  {
   "cell_type": "markdown",
   "id": "acc0bed0",
   "metadata": {},
   "source": [
    "## Prediction"
   ]
  },
  {
   "cell_type": "code",
   "execution_count": null,
   "id": "385dba09",
   "metadata": {},
   "outputs": [],
   "source": [
    "import predict_utils as PU"
   ]
  },
  {
   "cell_type": "code",
   "execution_count": null,
   "id": "a52a1c9c",
   "metadata": {},
   "outputs": [],
   "source": [
    "predictor = PU.Predictor(trainer.model, trainer.model_dir, input_name, ckpt_name='save_model')"
   ]
  },
  {
   "cell_type": "code",
   "execution_count": null,
   "id": "5c36735c",
   "metadata": {},
   "outputs": [],
   "source": [
    "predictor.predict(valid_ds)"
   ]
  },
  {
   "cell_type": "code",
   "execution_count": null,
   "id": "fdcf6fdb",
   "metadata": {},
   "outputs": [],
   "source": [
    "results = predictor.get_performance()"
   ]
  },
  {
   "cell_type": "code",
   "execution_count": null,
   "id": "faad6e35",
   "metadata": {},
   "outputs": [],
   "source": [
    "results"
   ]
  },
  {
   "cell_type": "code",
   "execution_count": null,
   "id": "d70c8f26",
   "metadata": {},
   "outputs": [],
   "source": [
    "predictor.plot_confusion_matrix(columns=['Non-Converted', 'Converted', 'AD'], save_path=f'figures/unimodel_{input_name}_{date}_{timepoint}.png')"
   ]
  },
  {
   "cell_type": "code",
   "execution_count": null,
   "id": "85b4ddf7",
   "metadata": {},
   "outputs": [],
   "source": []
  }
 ],
 "metadata": {
  "kernelspec": {
   "display_name": "Python 3 (ipykernel)",
   "language": "python",
   "name": "python3"
  },
  "language_info": {
   "codemirror_mode": {
    "name": "ipython",
    "version": 3
   },
   "file_extension": ".py",
   "mimetype": "text/x-python",
   "name": "python",
   "nbconvert_exporter": "python",
   "pygments_lexer": "ipython3",
   "version": "3.10.12"
  }
 },
 "nbformat": 4,
 "nbformat_minor": 5
}
