{
 "cells": [
  {
   "cell_type": "code",
   "execution_count": null,
   "id": "6420b471",
   "metadata": {},
   "outputs": [],
   "source": [
    "%load_ext autoreload\n",
    "%autoreload 2\n",
    "%matplotlib inline"
   ]
  },
  {
   "cell_type": "code",
   "execution_count": null,
   "id": "9ad78860",
   "metadata": {},
   "outputs": [],
   "source": [
    "import os\n",
    "os.environ['TF_CPP_MIN_LOG_LEVEL'] = '2'\n",
    "import numpy as np\n",
    "import pandas as pd\n",
    "import tensorflow as tf\n",
    "\n",
    "import dataloader as DL\n",
    "import layers as CLayers\n",
    "import train_utils as TU\n",
    "import models as MD\n",
    "\n",
    "from sklearn.model_selection import train_test_split"
   ]
  },
  {
   "cell_type": "code",
   "execution_count": null,
   "id": "2de0874f",
   "metadata": {},
   "outputs": [],
   "source": [
    "gpus = tf.config.experimental.list_physical_devices('GPU')\n",
    "if gpus:\n",
    "    try:\n",
    "        # Currently, memory growth needs to be the same across GPUs\n",
    "        for gpu in gpus:\n",
    "            tf.config.experimental.set_memory_growth(gpu, True)\n",
    "        logical_gpus = tf.config.experimental.list_logical_devices('GPU')\n",
    "        print(len(gpus), \"Physical GPUs,\", len(logical_gpus), \"Logical GPUs\")\n",
    "    except RuntimeError as e:\n",
    "        # Memory growth must be set before GPUs have been initialized\n",
    "        print(e)"
   ]
  },
  {
   "cell_type": "markdown",
   "id": "072951b2",
   "metadata": {},
   "source": [
    "## Load data"
   ]
  },
  {
   "cell_type": "code",
   "execution_count": null,
   "id": "cefd9b4e",
   "metadata": {},
   "outputs": [],
   "source": [
    "df = pd.read_csv('./data/ADNI_saliency.csv', low_memory=False)\n",
    "date = '20240128_1800'\n",
    "input_name = 'AbsDiff'\n",
    "unique_rids = df['RID'].unique()"
   ]
  },
  {
   "cell_type": "code",
   "execution_count": null,
   "id": "b4556345",
   "metadata": {},
   "outputs": [],
   "source": [
    "# train_rids, valid_rids = train_test_split(unique_rids, test_size=0.2, random_state=2024)"
   ]
  },
  {
   "cell_type": "code",
   "execution_count": null,
   "id": "bafd8200",
   "metadata": {},
   "outputs": [],
   "source": [
    "# with open(f'./data/train_rids_S2.txt', 'w') as file:\n",
    "#     for rid in train_rids:\n",
    "#         file.write(f\"{rid}\\n\")\n",
    "# with open(f'./data/val_rids_S2.txt', 'w') as file:\n",
    "#     for rid in valid_rids:\n",
    "#         file.write(f\"{rid}\\n\")"
   ]
  },
  {
   "cell_type": "code",
   "execution_count": null,
   "id": "9f8187cf",
   "metadata": {},
   "outputs": [],
   "source": [
    "with open(f'./data/train_rids_S2.txt', 'r') as file:\n",
    "    train_rids = [line.strip() for line in file]\n",
    "train_rids = [int(float(rid)) for rid in train_rids]\n",
    "# Load validation RIDs from the text file\n",
    "with open(f'./data/val_rids_S2.txt', 'r') as file:\n",
    "    valid_rids = [line.strip() for line in file]\n",
    "valid_rids = [int(float(rid)) for rid in valid_rids]"
   ]
  },
  {
   "cell_type": "code",
   "execution_count": null,
   "id": "7ae5f65d",
   "metadata": {},
   "outputs": [],
   "source": [
    "ds_config = dict(\n",
    "    source_dir=\"/ngochuynh/f/Dataset/ADNI\",\n",
    "    filepath=\"./data/ADNI_saliency.csv\",\n",
    "    input_name=input_name,\n",
    "    batch_size = 4,\n",
    "    timesteps = 12,\n",
    "    img_shape = (189,216,189),\n",
    "    sal_shape = (84,48,42),\n",
    "    pe_dim    = 128,\n",
    ")"
   ]
  },
  {
   "cell_type": "code",
   "execution_count": null,
   "id": "b5b4e68c",
   "metadata": {},
   "outputs": [],
   "source": [
    "train_ds = DL.InputFunctionS2(**ds_config, list_rids=train_rids, shuffle=True)\n",
    "valid_ds = DL.InputFunctionS2(**ds_config, list_rids=valid_rids, shuffle=False)"
   ]
  },
  {
   "cell_type": "code",
   "execution_count": null,
   "id": "3b28e715",
   "metadata": {
    "scrolled": true
   },
   "outputs": [],
   "source": [
    "# check_nan = dict(\n",
    "#     step=[],\n",
    "#     mri_nan=[],\n",
    "#     pe_nan=[],\n",
    "#     sal_nan=[]\n",
    "# )\n",
    "# for i, (feat, label) in enumerate(train_ds()):\n",
    "#     print(f'Step {i}')\n",
    "#     if np.isnan(feat['mri_image'].numpy()).any():\n",
    "#         print('MRI image contains NaN')\n",
    "#         check_nan['step'].append(i)\n",
    "#         check_nan['mri_nan'].append(1)\n",
    "#     else:\n",
    "#         print('MRI image does NOT contain NaN')\n",
    "    \n",
    "#     if np.isnan(feat['pos_enc'].numpy()).any():\n",
    "#         print('PE contains NaN')\n",
    "#         check_nan['step'].append(i)\n",
    "#         check_nan['pe_nan'].append(1)\n",
    "#     else:\n",
    "#         print('PE does NOT contain NaN')\n",
    "    \n",
    "#     if np.isnan(label['sal_image'].numpy()).any():\n",
    "#         print('Saliency map contains NaN')\n",
    "#         check_nan['step'].append(i)\n",
    "#         check_nan['sal_nan'].append(1)\n",
    "#     else:\n",
    "#         print('Saliency map does NOT contain NaN')"
   ]
  },
  {
   "cell_type": "code",
   "execution_count": null,
   "id": "907cb471",
   "metadata": {},
   "outputs": [],
   "source": [
    "# check_nan"
   ]
  },
  {
   "cell_type": "code",
   "execution_count": null,
   "id": "4e1c20c0",
   "metadata": {},
   "outputs": [],
   "source": []
  },
  {
   "cell_type": "markdown",
   "id": "4adffcdd",
   "metadata": {},
   "source": [
    "## Create model"
   ]
  },
  {
   "cell_type": "code",
   "execution_count": null,
   "id": "19ff2ebf",
   "metadata": {},
   "outputs": [],
   "source": [
    "model_config = dict(\n",
    "    enc_filter=16,\n",
    "    gen_filter=16,\n",
    "    dec_filter=16,\n",
    "    dic_filter=16,\n",
    "    enc_dropout=0.3,\n",
    "    dic_dropout=0.3,\n",
    "    latent_dim=1024,\n",
    ")"
   ]
  },
  {
   "cell_type": "code",
   "execution_count": null,
   "id": "2dcee4ac",
   "metadata": {},
   "outputs": [],
   "source": [
    "model = MD.ProGAN(input_shape=(189,216,189,1), latent_shape=(1024+128,), dicrim_shape=(84,48,42,1))\n",
    "model._make_model(**model_config)"
   ]
  },
  {
   "cell_type": "markdown",
   "id": "b58716a0",
   "metadata": {},
   "source": [
    "## Create trainer"
   ]
  },
  {
   "cell_type": "code",
   "execution_count": null,
   "id": "42c80317",
   "metadata": {},
   "outputs": [],
   "source": [
    "num_epochs = 50\n",
    "optimizers = dict(\n",
    "    dec_op  = tf.keras.optimizers.Adam(learning_rate=1e-5, weight_decay=1e-7),\n",
    "    cons_op = tf.keras.optimizers.Adam(learning_rate=1e-5, weight_decay=1e-7),\n",
    "    gen_op  = tf.keras.optimizers.Adam(learning_rate=1e-5, weight_decay=1e-7, beta_1=0.5, beta_2=0.999),\n",
    "    dis_op  = tf.keras.optimizers.Adam(learning_rate=1e-5, weight_decay=1e-7, beta_1=0.5, beta_2=0.999),\n",
    ")"
   ]
  },
  {
   "cell_type": "code",
   "execution_count": null,
   "id": "7b2be3ef",
   "metadata": {},
   "outputs": [],
   "source": [
    "trainer = TU.TrainAndEvaluateS2(\n",
    "    model=model,\n",
    "    model_dir=f\"./checkpoints/S2_unimodel_{input_name}_{date}\",\n",
    "    input_name=input_name,\n",
    "    train_dataset=train_ds(),\n",
    "    eval_dataset=valid_ds(),\n",
    "    num_epochs=num_epochs,\n",
    "    timepoints=12,\n",
    "    latent_dim=1024,\n",
    "    pe_dim=128,\n",
    "    optimizers=optimizers,\n",
    "    pretrained=\"epoch_31\",\n",
    ")"
   ]
  },
  {
   "cell_type": "code",
   "execution_count": null,
   "id": "003b0e12",
   "metadata": {
    "scrolled": true
   },
   "outputs": [],
   "source": [
    "trainer.train_and_evaluate()"
   ]
  },
  {
   "cell_type": "markdown",
   "id": "c987ec9c",
   "metadata": {},
   "source": [
    "## Prediction"
   ]
  },
  {
   "cell_type": "code",
   "execution_count": null,
   "id": "0ff7f26e",
   "metadata": {},
   "outputs": [],
   "source": [
    "val_metrics = trainer.get_result_metrics(valid_ds())"
   ]
  },
  {
   "cell_type": "code",
   "execution_count": null,
   "id": "a494bdb7",
   "metadata": {},
   "outputs": [],
   "source": [
    "val_metrics"
   ]
  },
  {
   "cell_type": "code",
   "execution_count": null,
   "id": "ea82194c",
   "metadata": {},
   "outputs": [],
   "source": []
  }
 ],
 "metadata": {
  "kernelspec": {
   "display_name": "Python 3 (ipykernel)",
   "language": "python",
   "name": "python3"
  },
  "language_info": {
   "codemirror_mode": {
    "name": "ipython",
    "version": 3
   },
   "file_extension": ".py",
   "mimetype": "text/x-python",
   "name": "python",
   "nbconvert_exporter": "python",
   "pygments_lexer": "ipython3",
   "version": "3.10.12"
  }
 },
 "nbformat": 4,
 "nbformat_minor": 5
}
