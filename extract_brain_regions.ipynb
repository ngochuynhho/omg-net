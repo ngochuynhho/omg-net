{
 "cells": [
  {
   "cell_type": "code",
   "execution_count": null,
   "id": "498249e2",
   "metadata": {},
   "outputs": [],
   "source": [
    "!pip install tqdm"
   ]
  },
  {
   "cell_type": "code",
   "execution_count": null,
   "id": "53cbaec4",
   "metadata": {},
   "outputs": [],
   "source": [
    "import os\n",
    "import glob\n",
    "import numpy as np\n",
    "import nibabel as nib\n",
    "from tqdm import tqdm"
   ]
  },
  {
   "cell_type": "code",
   "execution_count": null,
   "id": "20267a48",
   "metadata": {},
   "outputs": [],
   "source": [
    "mask_files = glob.glob('/ngochuynh/f/Dataset/ADNI/atlas/mask/combined_mask/*')\n",
    "image_path = '/ngochuynh/f/Dataset/ADNI/ADNI_renamed'\n",
    "dest_dir   = '/ngochuynh/f/Dataset/ADNI/ADNI_regions' \n",
    "image_type = 'MRI'\n",
    "image_files = glob.glob(f'{image_path}/*/preprocessed/{image_type}/transformed*')"
   ]
  },
  {
   "cell_type": "code",
   "execution_count": null,
   "id": "ced9b6a6",
   "metadata": {},
   "outputs": [],
   "source": [
    "def extract_brain_regions(img, mask_paths, output_dir):\n",
    "    for mpath in mask_paths:\n",
    "        mname = os.path.splitext(os.path.basename(mpath))[0]\n",
    "        region_mask = nib.load(mpath)\n",
    "        region_data = img.get_fdata() * region_mask.get_fdata()\n",
    "        region_img = nib.Nifti1Image(region_data, img.affine)\n",
    "        # Get the bounding box of the region\n",
    "        x, y, z = np.where(region_data != 0)\n",
    "        min_x, max_x = min(x), max(x)\n",
    "        min_y, max_y = min(y), max(y)\n",
    "        min_z, max_z = min(z), max(z)\n",
    "        # Crop the region using the bounding box\n",
    "        cropped_region_data = region_data[min_x:max_x+1, min_y:max_y+1, min_z:max_z+1]\n",
    "        cropped_region_img = nib.Nifti1Image(cropped_region_data, region_img.affine)\n",
    "        nib.save(cropped_region_img, os.path.join(output_dir, f'masked_{mname[5:]}.nii'))"
   ]
  },
  {
   "cell_type": "code",
   "execution_count": null,
   "id": "f29df236",
   "metadata": {},
   "outputs": [],
   "source": [
    "total_rows   = len(image_files)\n",
    "progress_bar = tqdm(total=total_rows, desc=\"Processing Files\")\n",
    "\n",
    "for img_path in image_files:\n",
    "    basename = os.path.splitext(os.path.basename(img_path))[0]\n",
    "    ptid = basename[12:22]\n",
    "    output_dir = os.path.join(dest_dir, ptid, image_type, basename)\n",
    "    if not os.path.exists(output_dir):\n",
    "        os.makedirs(output_dir)\n",
    "        \n",
    "        img = nib.load(img_path)\n",
    "        extract_brain_regions(img, mask_files, output_dir)\n",
    "    \n",
    "    progress_bar.update(1)\n",
    "progress_bar.close()"
   ]
  },
  {
   "cell_type": "code",
   "execution_count": null,
   "id": "ade98c31",
   "metadata": {},
   "outputs": [],
   "source": [
    "output_dir"
   ]
  },
  {
   "cell_type": "code",
   "execution_count": null,
   "id": "86272850",
   "metadata": {},
   "outputs": [],
   "source": []
  }
 ],
 "metadata": {
  "kernelspec": {
   "display_name": "Python 3 (ipykernel)",
   "language": "python",
   "name": "python3"
  },
  "language_info": {
   "codemirror_mode": {
    "name": "ipython",
    "version": 3
   },
   "file_extension": ".py",
   "mimetype": "text/x-python",
   "name": "python",
   "nbconvert_exporter": "python",
   "pygments_lexer": "ipython3",
   "version": "3.10.12"
  }
 },
 "nbformat": 4,
 "nbformat_minor": 5
}
